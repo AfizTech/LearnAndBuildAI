{
 "cells": [
  {
   "cell_type": "markdown",
   "id": "7834db75-f155-4ac7-bfaa-ba9158ae5586",
   "metadata": {},
   "source": [
    "## Class Methods and Static Methods "
   ]
  },
  {
   "cell_type": "markdown",
   "id": "34d94fcd-6474-40aa-b404-d72c3a349272",
   "metadata": {},
   "source": [
    "**Class Methods: Class methods work with class variables and are accessible using the name rather than its object.**  \n",
    "\n",
    "**💡 Class methods are accessed using the class name and can be accessed without creating a class object**  \n",
    "\n",
    "`@classmethod` decorator is used to create class methods. `cls` is used to refer to the class just like `self` is used to refer to the object of the class. "
   ]
  },
  {
   "cell_type": "code",
   "execution_count": 2,
   "id": "0fc8d165-f7aa-4bf0-b903-cdadad5387f8",
   "metadata": {},
   "outputs": [
    {
     "name": "stdout",
     "output_type": "stream",
     "text": [
      "Rajasthan Royals\n"
     ]
    }
   ],
   "source": [
    "class Player:\n",
    "    teamName = 'Rajasthan Royals'  # class variables\n",
    "\n",
    "    def __init__(self, name):\n",
    "        self.name = name  # creating instance variables\n",
    "\n",
    "    @classmethod\n",
    "    def getTeamName(cls):\n",
    "        return cls.teamName\n",
    "\n",
    "\n",
    "print(Player.getTeamName())"
   ]
  },
  {
   "cell_type": "markdown",
   "id": "bc4096ec-01c7-4f6d-a53f-e85b0a26a36d",
   "metadata": {},
   "source": [
    "### Instance Method"
   ]
  },
  {
   "cell_type": "code",
   "execution_count": 5,
   "id": "f5623b44-cd14-4312-a35b-b5c280f4c304",
   "metadata": {},
   "outputs": [
    {
     "name": "stdout",
     "output_type": "stream",
     "text": [
      "DD\n"
     ]
    }
   ],
   "source": [
    "class Player:\n",
    "    teamName = 'Rajasthan Royals'  # class variables\n",
    "\n",
    "    def __init__(self, name, pre_teams=[]):\n",
    "        self.name = name  # creating instance variables\n",
    "        self.previous_teams = pre_teams\n",
    "    \n",
    "    def list_previous_teams(self): # instance method\n",
    "        for team in self.previous_teams:\n",
    "            print(team)\n",
    "\n",
    "sanju = Player('Sanju Samson', ['DD'])\n",
    "sanju.list_previous_teams()"
   ]
  },
  {
   "cell_type": "markdown",
   "id": "e9b3795e-f436-4a8d-839c-54529b838b2c",
   "metadata": {},
   "source": [
    "### Static Method:\n",
    "\n",
    "are methods that are usually limited to class only and not their objects. They have no direct relation to class or instance variables. They are used as utility functions inside the class or when we don't want the inherited classes. \n",
    "\n",
    "`@staticmethod` decorator is used to define static methods."
   ]
  },
  {
   "cell_type": "code",
   "execution_count": 6,
   "id": "48aab602-2f5e-4b0e-968e-e13dbffe6014",
   "metadata": {},
   "outputs": [
    {
     "name": "stdout",
     "output_type": "stream",
     "text": [
      "I am a static method.\n",
      "I am a static method.\n"
     ]
    }
   ],
   "source": [
    "class Player:\n",
    "    teamName = 'Liverpool'  # class variables\n",
    "\n",
    "    def __init__(self, name):\n",
    "        self.name = name  # creating instance variables\n",
    "\n",
    "    @staticmethod\n",
    "    def demo():\n",
    "        print(\"I am a static method.\")\n",
    "\n",
    "\n",
    "p1 = Player('lol')\n",
    "p1.demo()\n",
    "Player.demo()"
   ]
  },
  {
   "cell_type": "code",
   "execution_count": null,
   "id": "ed6fb460-b836-41bb-abdc-437a55c3ee9b",
   "metadata": {},
   "outputs": [],
   "source": []
  }
 ],
 "metadata": {
  "kernelspec": {
   "display_name": "default:Python",
   "language": "python",
   "name": "conda-env-default-py"
  },
  "language_info": {
   "codemirror_mode": {
    "name": "ipython",
    "version": 3
   },
   "file_extension": ".py",
   "mimetype": "text/x-python",
   "name": "python",
   "nbconvert_exporter": "python",
   "pygments_lexer": "ipython3",
   "version": "3.9.12"
  }
 },
 "nbformat": 4,
 "nbformat_minor": 5
}
