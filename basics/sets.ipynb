{
 "cells": [
  {
   "cell_type": "markdown",
   "id": "64bae1c9-d598-4c68-b9c7-3b978ada8bbd",
   "metadata": {},
   "source": [
    "## Sets in Python\n",
    "\n",
    "What is set?\n",
    "Set is an unordered collection of unique items. Sets support mathematical operations like union, intersection and simmetric difference.  \n",
    "\n",
    "1. Create empty set"
   ]
  },
  {
   "cell_type": "code",
   "execution_count": 1,
   "id": "7169c45e-de91-49f8-a97a-08105e8a4606",
   "metadata": {
    "tags": []
   },
   "outputs": [
    {
     "name": "stdout",
     "output_type": "stream",
     "text": [
      "<class 'set'>\n"
     ]
    }
   ],
   "source": [
    "s = set()\n",
    "print(type(s))"
   ]
  },
  {
   "cell_type": "markdown",
   "id": "d7542cbc-52e8-47f8-b2f9-9e31345a4e4a",
   "metadata": {},
   "source": [
    "2. Create set with elements"
   ]
  },
  {
   "cell_type": "code",
   "execution_count": 2,
   "id": "7a049dcb-4984-409a-be38-157f7a516d00",
   "metadata": {},
   "outputs": [
    {
     "name": "stdout",
     "output_type": "stream",
     "text": [
      "{1, 2, 3, 4, 5}\n"
     ]
    }
   ],
   "source": [
    "s = set([1,2,3,4,5])\n",
    "print(s)"
   ]
  },
  {
   "cell_type": "markdown",
   "id": "ef77cf32-39cf-45bd-a904-72d1cfca8b76",
   "metadata": {},
   "source": [
    "3. Add element to set"
   ]
  },
  {
   "cell_type": "code",
   "execution_count": 3,
   "id": "45588281-a0d7-4c6e-94bf-1f17fe44c688",
   "metadata": {},
   "outputs": [
    {
     "name": "stdout",
     "output_type": "stream",
     "text": [
      "{1, 2, 3, 4, 5, 6}\n"
     ]
    }
   ],
   "source": [
    "s.add(6)\n",
    "print(s)"
   ]
  },
  {
   "cell_type": "markdown",
   "id": "843a1b24-bc39-4246-b325-4f6190796c6e",
   "metadata": {},
   "source": [
    "4. Remove element from set"
   ]
  },
  {
   "cell_type": "code",
   "execution_count": 4,
   "id": "a151da34-4c09-4394-b4bd-58f4aec64a61",
   "metadata": {},
   "outputs": [
    {
     "name": "stdout",
     "output_type": "stream",
     "text": [
      "{1, 2, 3, 4, 5}\n"
     ]
    }
   ],
   "source": [
    "# Method 1\n",
    "s.remove(6)\n",
    "print(s)"
   ]
  },
  {
   "cell_type": "code",
   "execution_count": 5,
   "id": "12be6af6-2cd2-4958-80ce-08f32847a7fc",
   "metadata": {},
   "outputs": [
    {
     "name": "stdout",
     "output_type": "stream",
     "text": [
      "{1, 2, 3, 4}\n"
     ]
    }
   ],
   "source": [
    "# method 2\n",
    "s.discard(5)\n",
    "print(s)"
   ]
  },
  {
   "cell_type": "markdown",
   "id": "3e1e1150-d0e9-4542-8602-6d9560293f4d",
   "metadata": {},
   "source": [
    "##### 5. Remove all the elements from list"
   ]
  },
  {
   "cell_type": "code",
   "execution_count": 6,
   "id": "581715d2-16bb-4c56-bf39-7a442fc8e466",
   "metadata": {},
   "outputs": [
    {
     "name": "stdout",
     "output_type": "stream",
     "text": [
      "set()\n"
     ]
    }
   ],
   "source": [
    "s.clear()\n",
    "print(s)"
   ]
  },
  {
   "cell_type": "markdown",
   "id": "bcc9e96e-2936-46cd-8cdc-46e66fa955c0",
   "metadata": {},
   "source": [
    "##### 6. Check item exists in set"
   ]
  },
  {
   "cell_type": "code",
   "execution_count": 7,
   "id": "5b9a4210-04ff-4d9b-8372-40bc854f678b",
   "metadata": {},
   "outputs": [
    {
     "name": "stdout",
     "output_type": "stream",
     "text": [
      "{'t', 'i', 'a', 'p', 'n', 'h', 'e', 'o', 'm', 'w', 's', ' ', 'y'}\n"
     ]
    }
   ],
   "source": [
    "s = set('python is awesome')\n",
    "print(s)"
   ]
  },
  {
   "cell_type": "code",
   "execution_count": 8,
   "id": "813ae5af-94fa-47d8-befa-07858842344d",
   "metadata": {},
   "outputs": [
    {
     "data": {
      "text/plain": [
       "False"
      ]
     },
     "execution_count": 8,
     "metadata": {},
     "output_type": "execute_result"
    }
   ],
   "source": [
    "'x' in s"
   ]
  },
  {
   "cell_type": "markdown",
   "id": "d1cc9e7b-db01-4ee1-be73-1a4894189652",
   "metadata": {},
   "source": [
    "##### 7. Mathematical Operations\n",
    "7.1. Union"
   ]
  },
  {
   "cell_type": "code",
   "execution_count": 9,
   "id": "7c2ba821-95c7-4482-9aba-a3ff3aafe0cc",
   "metadata": {},
   "outputs": [
    {
     "name": "stdout",
     "output_type": "stream",
     "text": [
      "method - 1 ---> {1, 2, 3, 4, 5, 6, 7}\n",
      "method - 2 ---> {1, 2, 3, 4, 5, 6, 7}\n"
     ]
    }
   ],
   "source": [
    "a = {1,2,3,4,5}\n",
    "b = {2,6,7}\n",
    "print(f'method - 1 ---> {a.union(b)}')\n",
    "print(f'method - 2 ---> {a | b}')"
   ]
  },
  {
   "cell_type": "markdown",
   "id": "1f1729aa-9599-4693-b968-cd76f1002cb4",
   "metadata": {},
   "source": [
    "7.2 Intersection"
   ]
  },
  {
   "cell_type": "code",
   "execution_count": 10,
   "id": "f90c7d87-b8f8-49cd-b6fb-d333ff28dc8f",
   "metadata": {},
   "outputs": [
    {
     "name": "stdout",
     "output_type": "stream",
     "text": [
      "method - 1 ---> {2}\n",
      "method - 2 ---> {2}\n"
     ]
    }
   ],
   "source": [
    "print(f'method - 1 ---> {a.intersection(b)}')\n",
    "print(f'method - 2 ---> {a & b}')"
   ]
  },
  {
   "cell_type": "markdown",
   "id": "da0cc436-30a9-4381-9cbf-8e3a980f52a0",
   "metadata": {},
   "source": [
    "7.3 Difference"
   ]
  },
  {
   "cell_type": "code",
   "execution_count": 11,
   "id": "d6c8c84f-ddc5-4bd8-82c5-335a34cf2536",
   "metadata": {},
   "outputs": [
    {
     "name": "stdout",
     "output_type": "stream",
     "text": [
      "method - 1 ---> {1, 3, 4, 5}\n",
      "method - 2 ---> {1, 3, 4, 5}\n"
     ]
    }
   ],
   "source": [
    "print(f'method - 1 ---> {a.difference(b)}')\n",
    "print(f'method - 2 ---> {a - b}')"
   ]
  },
  {
   "cell_type": "markdown",
   "id": "66a51eda-9194-4050-90f9-144ed974c6c1",
   "metadata": {},
   "source": [
    "7.4 Simmetric Difference"
   ]
  },
  {
   "cell_type": "code",
   "execution_count": 12,
   "id": "d21a4868-719f-463b-831e-e2cfacde810b",
   "metadata": {},
   "outputs": [
    {
     "name": "stdout",
     "output_type": "stream",
     "text": [
      "method - 1 ---> {1, 3, 4, 5, 6, 7}\n",
      "method - 2 ---> {1, 3, 4, 5, 6, 7}\n"
     ]
    }
   ],
   "source": [
    "print(f'method - 1 ---> {a.symmetric_difference(b)}')\n",
    "print(f'method - 2 ---> {a ^ b}')"
   ]
  },
  {
   "cell_type": "markdown",
   "id": "1e3ef544-4199-4cfa-9203-f729924d164c",
   "metadata": {},
   "source": [
    "##### length of set"
   ]
  },
  {
   "cell_type": "code",
   "execution_count": 13,
   "id": "8393cdf9-4fc6-42a8-8d33-9cb0ad1ed66b",
   "metadata": {},
   "outputs": [
    {
     "data": {
      "text/plain": [
       "5"
      ]
     },
     "execution_count": 13,
     "metadata": {},
     "output_type": "execute_result"
    }
   ],
   "source": [
    "len(a)"
   ]
  },
  {
   "cell_type": "markdown",
   "id": "35e574d9-e0b0-443f-b305-cd844465ab7a",
   "metadata": {},
   "source": [
    "##### Follow me -----> @itsafiz ⚡️"
   ]
  }
 ],
 "metadata": {
  "kernelspec": {
   "display_name": "default:Python",
   "language": "python",
   "name": "conda-env-default-py"
  },
  "language_info": {
   "codemirror_mode": {
    "name": "ipython",
    "version": 3
   },
   "file_extension": ".py",
   "mimetype": "text/x-python",
   "name": "python",
   "nbconvert_exporter": "python",
   "pygments_lexer": "ipython3",
   "version": "3.9.12"
  }
 },
 "nbformat": 4,
 "nbformat_minor": 5
}
