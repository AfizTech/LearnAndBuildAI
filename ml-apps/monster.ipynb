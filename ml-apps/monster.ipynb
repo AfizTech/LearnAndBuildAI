{
 "cells": [
  {
   "cell_type": "code",
   "execution_count": null,
   "id": "39608202-38ab-42a0-aeb2-dd48eb6ff36a",
   "metadata": {},
   "outputs": [],
   "source": [
    "from config import monster_api, monster_bearer # get your keys from MonsterAPI for FREE\n",
    "from IPython.display import Image, display"
   ]
  },
  {
   "cell_type": "code",
   "execution_count": null,
   "id": "5e6a34e8-09f2-488e-aa4f-808fae20f770",
   "metadata": {},
   "outputs": [],
   "source": [
    "import requests\n",
    "import json\n",
    "\n",
    "url = \"https://api.monsterapi.ai/apis/add-task\"\n",
    "\n",
    "payload = json.dumps({\n",
    "  \"model\": \"txt2img\",\n",
    "  \"data\": {\n",
    "    \"prompt\": \"Elon Musk as the Joker taking an apple from Steve Jobs, intricate, elegant, highly detailed, digital painting, artstation, concept art, matte, sharp focus, illustration, art by greg rutkowski and alphonse mucha\",\n",
    "    \"negprompt\": \"\",\n",
    "    \"samples\": 1,\n",
    "    \"steps\": 50,\n",
    "    \"aspect_ratio\": \"square\",\n",
    "    \"guidance_scale\": 7.5,\n",
    "    \"seed\": 2414\n",
    "  }\n",
    "})\n",
    "headers = {\n",
    "  'x-api-key': monster_api,\n",
    "  'Authorization': f'Bearer {monster_bearer}',\n",
    "  'Content-Type': 'application/json'\n",
    "}\n",
    "\n",
    "response = requests.request(\"POST\", url, headers=headers, data=payload)\n",
    "print(response.text)"
   ]
  },
  {
   "cell_type": "code",
   "execution_count": null,
   "id": "ab8a6c40-0b65-4982-9614-a41c33b364e1",
   "metadata": {},
   "outputs": [],
   "source": [
    "url = \"https://api.monsterapi.ai/apis/task-status\"\n",
    "\n",
    "payload = json.dumps({\n",
    "  \"process_id\": '1c3f8855-b25a-11ed-850e-075d1b526852'\n",
    "})\n",
    "response = requests.request(\"POST\", url, headers=headers, data=payload)\n",
    "res = json.loads(response.text)\n",
    "display(Image(res['response_data']['result']['output'][0]))"
   ]
  },
  {
   "cell_type": "code",
   "execution_count": null,
   "id": "245d3954-d3b8-4e82-9ff2-fc152b020fab",
   "metadata": {},
   "outputs": [],
   "source": []
  }
 ],
 "metadata": {
  "kernelspec": {
   "display_name": "default:Python",
   "language": "python",
   "name": "conda-env-default-py"
  },
  "language_info": {
   "codemirror_mode": {
    "name": "ipython",
    "version": 3
   },
   "file_extension": ".py",
   "mimetype": "text/x-python",
   "name": "python",
   "nbconvert_exporter": "python",
   "pygments_lexer": "ipython3",
   "version": "3.9.12"
  },
  "widgets": {
   "application/vnd.jupyter.widget-state+json": {
    "state": {},
    "version_major": 2,
    "version_minor": 0
   }
  }
 },
 "nbformat": 4,
 "nbformat_minor": 5
}
