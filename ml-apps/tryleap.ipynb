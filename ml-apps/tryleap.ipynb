{
 "cells": [
  {
   "cell_type": "code",
   "execution_count": 1,
   "id": "edeb9027-1735-4700-81e7-45468b25bcd2",
   "metadata": {},
   "outputs": [],
   "source": [
    "YOUR_API_KEY = 'GET Your API KEY from Leap AI'\n",
    "modelId = '8b1b897c-d66d-45a6-b8d7-8e32421d02cf'"
   ]
  },
  {
   "cell_type": "code",
   "execution_count": 2,
   "id": "7b5bd28b-a513-49f2-b6f8-8c76c2e8a4f5",
   "metadata": {},
   "outputs": [
    {
     "name": "stderr",
     "output_type": "stream",
     "text": [
      "/home/studio-lab-user/.conda/envs/default/lib/python3.9/site-packages/requests/__init__.py:102: RequestsDependencyWarning: urllib3 (1.26.13) or chardet (5.0.0)/charset_normalizer (2.0.12) doesn't match a supported version!\n",
      "  warnings.warn(\"urllib3 ({}) or chardet ({})/charset_normalizer ({}) doesn't match a supported \"\n"
     ]
    },
    {
     "name": "stdout",
     "output_type": "stream",
     "text": [
      "{\"status\":\"queued\",\"id\":\"f6445a7a-72d2-48a1-8f9c-bc6f7f7a3bdf\",\"prompt\":\"an astronaut riding a horse\",\"negativePrompt\":\"\",\"seed\":18218,\"width\":512,\"height\":512,\"numberOfImages\":1,\"steps\":25,\"createdAt\":\"2023-03-23T10:36:18.123Z\",\"promptStrength\":7,\"images\":[],\"modelId\":\"8b1b897c-d66d-45a6-b8d7-8e32421d02cf\"}\n"
     ]
    }
   ],
   "source": [
    "import requests\n",
    "\n",
    "url = f\"https://api.tryleap.ai/api/v1/images/models/{modelId}/inferences\"\n",
    "\n",
    "payload = {\n",
    "    \"prompt\": \"an astronaut riding a horse\",\n",
    "    \"steps\": 25,\n",
    "    \"width\": 512,\n",
    "    \"height\": 512,\n",
    "    \"numberOfImages\": 1\n",
    "}\n",
    "headers = {\n",
    "    \"accept\": \"application/json\",\n",
    "    \"content-type\": \"application/json\",\n",
    "    \"authorization\": f\"Bearer {YOUR_API_KEY}\"\n",
    "}\n",
    "\n",
    "response = requests.post(url, json=payload, headers=headers)\n",
    "\n",
    "print(response.text)\n"
   ]
  },
  {
   "cell_type": "code",
   "execution_count": 5,
   "id": "da55ab50-dc94-4c8c-a859-f070c8543c7d",
   "metadata": {},
   "outputs": [
    {
     "name": "stdout",
     "output_type": "stream",
     "text": [
      "https://dreamtrain.s3.us-west-2.amazonaws.com/image-gen-f6445a7a-72d2-48a1-8f9c-bc6f7f7a3bdf/generated_images/0.png\n"
     ]
    }
   ],
   "source": [
    "import requests\n",
    "\n",
    "url = f\"https://api.tryleap.ai/api/v1/images/models/{modelId}/inferences/f6445a7a-72d2-48a1-8f9c-bc6f7f7a3bdf\"\n",
    "\n",
    "headers = {\"authorization\": f\"Bearer {YOUR_API_KEY}\"}\n",
    "\n",
    "response = requests.get(url, headers=headers)\n",
    "\n",
    "print(response.json()['images'][0]['uri'])"
   ]
  },
  {
   "cell_type": "code",
   "execution_count": 3,
   "id": "c856af3f-f4a0-4b1d-be87-d7b098aa84f7",
   "metadata": {},
   "outputs": [
    {
     "name": "stdout",
     "output_type": "stream",
     "text": [
      "[{\"id\":\"2b0add04-5069-43e7-9196-ddc7e2d7e486\",\"status\":\"finished\",\"prompt\":\"a picture of @me in new york\",\"negativePrompt\":\"\",\"seed\":53322,\"width\":512,\"height\":512,\"numberOfImages\":1,\"steps\":25,\"createdAt\":\"2023-03-21T11:45:11.437636+00:00\",\"promptStrength\":7,\"images\":[{\"id\":\"12f4bda1-29a5-4190-9a7a-ca4e19aa9cdd\",\"uri\":\"https://dreamtrain.s3.us-west-2.amazonaws.com/image-gen-2b0add04-5069-43e7-9196-ddc7e2d7e486/generated_images/0.png\",\"createdAt\":\"2023-03-21T11:45:26.206Z\"}],\"modelId\":\"8b1b897c-d66d-45a6-b8d7-8e32421d02cf\"},{\"id\":\"0b06aa73-d863-44d6-bfa4-52ca3421160e\",\"status\":\"finished\",\"prompt\":\"a picture of Ram Charan in new york\",\"negativePrompt\":\"\",\"seed\":2534,\"width\":512,\"height\":512,\"numberOfImages\":1,\"steps\":25,\"createdAt\":\"2023-03-21T11:48:58.667988+00:00\",\"promptStrength\":7,\"images\":[{\"id\":\"90aaae58-c5ff-400b-80b5-2de0332cc6d6\",\"uri\":\"https://dreamtrain.s3.us-west-2.amazonaws.com/image-gen-0b06aa73-d863-44d6-bfa4-52ca3421160e/generated_images/0.png\",\"createdAt\":\"2023-03-21T11:49:13.201Z\"}],\"modelId\":\"8b1b897c-d66d-45a6-b8d7-8e32421d02cf\"}]\n"
     ]
    }
   ],
   "source": [
    "import requests\n",
    "\n",
    "url = f\"https://api.tryleap.ai/api/v1/images/models/{modelId}/inferences\"\n",
    "\n",
    "headers = {\"authorization\": f\"Bearer {YOUR_API_KEY}\"}\n",
    "\n",
    "response = requests.get(url, headers=headers)\n",
    "\n",
    "print(response.text)"
   ]
  },
  {
   "cell_type": "code",
   "execution_count": 4,
   "id": "f566fc7c-0a80-4372-904d-c9720bb9e92e",
   "metadata": {},
   "outputs": [
    {
     "data": {
      "text/plain": [
       "str"
      ]
     },
     "execution_count": 4,
     "metadata": {},
     "output_type": "execute_result"
    }
   ],
   "source": [
    "data = response.text\n",
    "type(data)"
   ]
  },
  {
   "cell_type": "code",
   "execution_count": 6,
   "id": "de28b50a-c5cb-4f27-b27c-20a46d78375a",
   "metadata": {},
   "outputs": [
    {
     "data": {
      "text/plain": [
       "[{'id': '2b0add04-5069-43e7-9196-ddc7e2d7e486',\n",
       "  'status': 'finished',\n",
       "  'prompt': 'a picture of @me in new york',\n",
       "  'negativePrompt': '',\n",
       "  'seed': 53322,\n",
       "  'width': 512,\n",
       "  'height': 512,\n",
       "  'numberOfImages': 1,\n",
       "  'steps': 25,\n",
       "  'createdAt': '2023-03-21T11:45:11.437636+00:00',\n",
       "  'promptStrength': 7,\n",
       "  'images': [{'id': '12f4bda1-29a5-4190-9a7a-ca4e19aa9cdd',\n",
       "    'uri': 'https://dreamtrain.s3.us-west-2.amazonaws.com/image-gen-2b0add04-5069-43e7-9196-ddc7e2d7e486/generated_images/0.png',\n",
       "    'createdAt': '2023-03-21T11:45:26.206Z'}],\n",
       "  'modelId': '8b1b897c-d66d-45a6-b8d7-8e32421d02cf'},\n",
       " {'id': '0b06aa73-d863-44d6-bfa4-52ca3421160e',\n",
       "  'status': 'finished',\n",
       "  'prompt': 'a picture of Ram Charan in new york',\n",
       "  'negativePrompt': '',\n",
       "  'seed': 2534,\n",
       "  'width': 512,\n",
       "  'height': 512,\n",
       "  'numberOfImages': 1,\n",
       "  'steps': 25,\n",
       "  'createdAt': '2023-03-21T11:48:58.667988+00:00',\n",
       "  'promptStrength': 7,\n",
       "  'images': [{'id': '90aaae58-c5ff-400b-80b5-2de0332cc6d6',\n",
       "    'uri': 'https://dreamtrain.s3.us-west-2.amazonaws.com/image-gen-0b06aa73-d863-44d6-bfa4-52ca3421160e/generated_images/0.png',\n",
       "    'createdAt': '2023-03-21T11:49:13.201Z'}],\n",
       "  'modelId': '8b1b897c-d66d-45a6-b8d7-8e32421d02cf'}]"
      ]
     },
     "execution_count": 6,
     "metadata": {},
     "output_type": "execute_result"
    }
   ],
   "source": [
    "len(response.json())"
   ]
  },
  {
   "cell_type": "code",
   "execution_count": null,
   "id": "22e2542a-2ebe-4d56-b5db-ba8933a76caa",
   "metadata": {},
   "outputs": [],
   "source": []
  }
 ],
 "metadata": {
  "kernelspec": {
   "display_name": "default:Python",
   "language": "python",
   "name": "conda-env-default-py"
  },
  "language_info": {
   "codemirror_mode": {
    "name": "ipython",
    "version": 3
   },
   "file_extension": ".py",
   "mimetype": "text/x-python",
   "name": "python",
   "nbconvert_exporter": "python",
   "pygments_lexer": "ipython3",
   "version": "3.9.12"
  }
 },
 "nbformat": 4,
 "nbformat_minor": 5
}
