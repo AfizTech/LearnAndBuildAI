{
 "cells": [
  {
   "cell_type": "markdown",
   "id": "de41bbfc-6095-4ea2-a7dd-80a7b025eb97",
   "metadata": {},
   "source": [
    "# ⚡️ Search words in Audio file 🔊 using 🔸 AssemblyAI 🔸"
   ]
  },
  {
   "cell_type": "markdown",
   "id": "2a8f3349-34a8-4993-a83a-8f614f51fce9",
   "metadata": {},
   "source": [
    "### ✅ Submit Audio file to get the transcription"
   ]
  },
  {
   "cell_type": "code",
   "execution_count": 1,
   "id": "d38c513e-ed83-4b68-8cc8-756da668c1a9",
   "metadata": {},
   "outputs": [],
   "source": [
    "import requests\n",
    "from config import api_key\n",
    "headers = {\n",
    "    \"authorization\": api_key,\n",
    "    \"content-type\": \"application/json\"\n",
    "}\n",
    "\n",
    "endpoint = \"https://api.assemblyai.com/v2/transcript\"\n",
    "json = {\n",
    "    \"audio_url\": \"https://bit.ly/3rBnQ8i\",\n",
    "    \"sentiment_analysis\": True\n",
    "}\n",
    "response = requests.post(endpoint, json=json, headers=headers)\n",
    "transcription_id = response.json().get('id')"
   ]
  },
  {
   "cell_type": "code",
   "execution_count": 3,
   "id": "b6a9c5b2-9fd3-4427-a41c-56d62f0d1893",
   "metadata": {},
   "outputs": [
    {
     "data": {
      "text/plain": [
       "(<Response [200]>, 'ov01qv3oku-dea6-4f8c-a20c-ba6c638ae5ea')"
      ]
     },
     "execution_count": 3,
     "metadata": {},
     "output_type": "execute_result"
    }
   ],
   "source": [
    "response, transcription_id"
   ]
  },
  {
   "cell_type": "markdown",
   "id": "41f37867-d872-4bc7-9cb3-464322068184",
   "metadata": {},
   "source": [
    "### ✅ Get the full transcription"
   ]
  },
  {
   "cell_type": "code",
   "execution_count": 12,
   "id": "1d6c0355-c588-4456-aedb-3392d4f53d3e",
   "metadata": {},
   "outputs": [
    {
     "data": {
      "text/plain": [
       "'Ted talks are recorded live at the Ted conference. This episode features psychologist and happiness '"
      ]
     },
     "execution_count": 12,
     "metadata": {},
     "output_type": "execute_result"
    }
   ],
   "source": [
    "endpoint = f\"https://api.assemblyai.com/v2/transcript/{transcription_id}\"\n",
    "res = requests.get(endpoint, headers=headers)\n",
    "res.json().get('text')[:100]"
   ]
  },
  {
   "cell_type": "markdown",
   "id": "522b6d7f-12ec-4fd7-ae63-13c3e446097b",
   "metadata": {},
   "source": [
    "### ✅ Search for words "
   ]
  },
  {
   "cell_type": "code",
   "execution_count": 14,
   "id": "ec5352d3-266c-4f7a-8967-fda71c4d634a",
   "metadata": {},
   "outputs": [],
   "source": [
    "endpoint = f\"https://api.assemblyai.com/v2/transcript/{transcription_id}/word-search?words=happiness\"\n",
    "res = requests.get(endpoint, headers=headers)"
   ]
  },
  {
   "cell_type": "code",
   "execution_count": 15,
   "id": "b6f67e22-53b4-48c2-b9ac-509ca5b83351",
   "metadata": {},
   "outputs": [
    {
     "data": {
      "text/plain": [
       "{'id': 'ov01qv3oku-dea6-4f8c-a20c-ba6c638ae5ea',\n",
       " 'total_count': 29,\n",
       " 'matches': [{'text': 'happiness',\n",
       "   'count': 29,\n",
       "   'timestamps': [[13004, 13366],\n",
       "    [261444, 262150],\n",
       "    [265956, 266650],\n",
       "    [319070, 319694],\n",
       "    [320676, 321086],\n",
       "    [327482, 327926],\n",
       "    [336794, 337130],\n",
       "    [338774, 339290],\n",
       "    [471744, 472358],\n",
       "    [495446, 495866],\n",
       "    [515762, 516182],\n",
       "    [519542, 519986],\n",
       "    [522002, 522446],\n",
       "    [525734, 526166],\n",
       "    [533822, 534302],\n",
       "    [563762, 564146],\n",
       "    [567684, 568046],\n",
       "    [582444, 582914],\n",
       "    [637992, 638330],\n",
       "    [643188, 643550],\n",
       "    [646950, 647870],\n",
       "    [654444, 654914],\n",
       "    [774098, 774542],\n",
       "    [810614, 811106],\n",
       "    [835922, 836474],\n",
       "    [855602, 855986],\n",
       "    [868118, 868550],\n",
       "    [1082664, 1083310],\n",
       "    [1127882, 1128610]],\n",
       "   'indexes': [14,\n",
       "    699,\n",
       "    702,\n",
       "    837,\n",
       "    841,\n",
       "    864,\n",
       "    903,\n",
       "    910,\n",
       "    1377,\n",
       "    1427,\n",
       "    1494,\n",
       "    1507,\n",
       "    1513,\n",
       "    1526,\n",
       "    1549,\n",
       "    1627,\n",
       "    1639,\n",
       "    1690,\n",
       "    1890,\n",
       "    1907,\n",
       "    1917,\n",
       "    1939,\n",
       "    2304,\n",
       "    2412,\n",
       "    2473,\n",
       "    2519,\n",
       "    2556,\n",
       "    3299,\n",
       "    3442]}]}"
      ]
     },
     "execution_count": 15,
     "metadata": {},
     "output_type": "execute_result"
    }
   ],
   "source": [
    "res.json()"
   ]
  },
  {
   "cell_type": "code",
   "execution_count": 16,
   "id": "2a1c98b8-3112-484c-81e1-5e1d470f2b94",
   "metadata": {},
   "outputs": [
    {
     "data": {
      "text/plain": [
       "{'id': 'ov01qv3oku-dea6-4f8c-a20c-ba6c638ae5ea',\n",
       " 'total_count': 2,\n",
       " 'matches': [{'text': 'talks',\n",
       "   'count': 1,\n",
       "   'timestamps': [[8806, 9142]],\n",
       "   'indexes': [1]},\n",
       "  {'text': 'episode',\n",
       "   'count': 1,\n",
       "   'timestamps': [[11312, 11710]],\n",
       "   'indexes': [10]}]}"
      ]
     },
     "execution_count": 16,
     "metadata": {},
     "output_type": "execute_result"
    }
   ],
   "source": [
    "endpoint = f\"https://api.assemblyai.com/v2/transcript/{transcription_id}/word-search?words=talks,episode\"\n",
    "res = requests.get(endpoint, headers=headers)\n",
    "res.json()"
   ]
  },
  {
   "cell_type": "code",
   "execution_count": null,
   "id": "750093c5-fe4f-4f96-a6c6-4ecd50a2ab65",
   "metadata": {},
   "outputs": [],
   "source": []
  }
 ],
 "metadata": {
  "kernelspec": {
   "display_name": "default:Python",
   "language": "python",
   "name": "conda-env-default-py"
  },
  "language_info": {
   "codemirror_mode": {
    "name": "ipython",
    "version": 3
   },
   "file_extension": ".py",
   "mimetype": "text/x-python",
   "name": "python",
   "nbconvert_exporter": "python",
   "pygments_lexer": "ipython3",
   "version": "3.9.12"
  }
 },
 "nbformat": 4,
 "nbformat_minor": 5
}
