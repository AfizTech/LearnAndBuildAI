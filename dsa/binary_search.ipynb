{
 "cells": [
  {
   "attachments": {
    "755b03ac-a95f-4da8-a1be-615ac545ad2e.png": {
     "image/png": "[encoded data removed]"
    }
   },
   "cell_type": "markdown",
   "id": "d2fb61ad-e052-479e-a521-491e4a3f131d",
   "metadata": {},
   "source": [
    "> **QUESTION 1:** Alice has some cards with numbers written on them. She arranges the cards in decreasing order, and lays them out face down in a sequence on a table. She challenges Bob to pick out the card containing a given number by turning over as few cards as possible. Write a function to help Bob locate the card.\n",
    "\n",
    "![image.png](attachment:755b03ac-a95f-4da8-a1be-615ac545ad2e.png)"
   ]
  },
  {
   "cell_type": "code",
   "execution_count": 4,
   "id": "54ab40b1-b9ce-4e6a-bdd9-6426efb814a3",
   "metadata": {},
   "outputs": [],
   "source": [
    "cards = [13,10, 11,10, 10, 7, 4, 3, 1, 0]\n",
    "query = 11\n",
    "output = 1"
   ]
  },
  {
   "cell_type": "code",
   "execution_count": 1,
   "id": "0f95a690-2834-4f00-aedc-69a7cd925966",
   "metadata": {},
   "outputs": [],
   "source": [
    "def locate_card(cards: list, query: int) -> int:\n",
    "    low, high = 0, len(cards)-1\n",
    "    \n",
    "    while True:\n",
    "        mid = (low + high) // 2\n",
    "        print(f'{low=} {high=}')\n",
    "        \n",
    "        if cards[mid] == query:\n",
    "            return mid\n",
    "        elif cards[mid] > query:\n",
    "            low = mid + 1\n",
    "        elif cards[mid] < query:\n",
    "            high = mid - 1\n",
    "        \n",
    "        if low > high:\n",
    "            return -1    "
   ]
  },
  {
   "cell_type": "code",
   "execution_count": 21,
   "id": "c0fc4d59-ac9b-4163-a3cf-366bbb6014ae",
   "metadata": {},
   "outputs": [],
   "source": [
    "cards = [13,11,10,10,10,7, 4, 3,2,1,0]\n",
    "query = 11\n",
    "output = 1"
   ]
  },
  {
   "cell_type": "code",
   "execution_count": 7,
   "id": "1fe8e3fd-98fd-4676-9f8c-6d0a57691ddc",
   "metadata": {},
   "outputs": [
    {
     "name": "stdout",
     "output_type": "stream",
     "text": [
      "low=0 high=9\n"
     ]
    },
    {
     "data": {
      "text/plain": [
       "4"
      ]
     },
     "execution_count": 7,
     "metadata": {},
     "output_type": "execute_result"
    }
   ],
   "source": [
    "locate_card(cards, 10)"
   ]
  },
  {
   "cell_type": "code",
   "execution_count": 14,
   "id": "9cddb075-aec4-480d-b9f5-98e0f6495e6a",
   "metadata": {},
   "outputs": [],
   "source": [
    "def locate_card_1(cards: list, query: int) -> int:\n",
    "    low, high = 0, len(cards)-1\n",
    "    \n",
    "    while True:\n",
    "        mid = (low + high) // 2\n",
    "        print(f'{low=} {high=} {mid=}')\n",
    "        \n",
    "        if cards[mid] == query:\n",
    "            if cards[mid-1] != query:\n",
    "                return mid\n",
    "            high = mid -1 \n",
    "        elif cards[mid] > query:\n",
    "            low = mid + 1\n",
    "        elif cards[mid] < query:\n",
    "            high = mid - 1\n",
    "        \n",
    "        if low > high:\n",
    "            return -1    "
   ]
  },
  {
   "cell_type": "code",
   "execution_count": 24,
   "id": "19e1ac70-a146-4470-a0db-aab7412cd40f",
   "metadata": {},
   "outputs": [
    {
     "name": "stdout",
     "output_type": "stream",
     "text": [
      "low=0 high=10 mid=5\n",
      "low=6 high=10 mid=8\n"
     ]
    },
    {
     "data": {
      "text/plain": [
       "8"
      ]
     },
     "execution_count": 24,
     "metadata": {},
     "output_type": "execute_result"
    }
   ],
   "source": [
    "locate_card_1(cards, 2)"
   ]
  },
  {
   "cell_type": "code",
   "execution_count": 5,
   "id": "6fd9430f-6f18-4ac4-93a3-f893d898a431",
   "metadata": {},
   "outputs": [],
   "source": [
    "def binary_search(low, high, check_condition):\n",
    "    \n",
    "    while low <= high:\n",
    "        \n",
    "        mid = (low + high) // 2\n",
    "        \n",
    "        if check_condition(mid) == 'found':\n",
    "            return mid\n",
    "        elif check_condition(mid) == 'left':\n",
    "            high = mid -1\n",
    "        else:\n",
    "            low = mid + 1\n",
    "            \n",
    "    return -1"
   ]
  },
  {
   "cell_type": "code",
   "execution_count": 4,
   "id": "d7cdef70-c0d5-46f8-895b-3926ff35570f",
   "metadata": {},
   "outputs": [],
   "source": [
    "def locate_card(cards, query):\n",
    "    \n",
    "    def check_condition(mid):\n",
    "        if cards[mid] == query:\n",
    "            if mid > 0 and cards[mid -1] == query:\n",
    "                return 'left'\n",
    "            else:\n",
    "                return 'found'\n",
    "        elif cards[mid] > query:\n",
    "            return 'right'\n",
    "        else:\n",
    "            return 'left'\n",
    "    \n",
    "    return binary_search(0, len(cards), check_condition)"
   ]
  },
  {
   "cell_type": "code",
   "execution_count": 6,
   "id": "599e91ff-cd7a-4f10-8b0f-dcf575fe5ef0",
   "metadata": {},
   "outputs": [
    {
     "data": {
      "text/plain": [
       "2"
      ]
     },
     "execution_count": 6,
     "metadata": {},
     "output_type": "execute_result"
    }
   ],
   "source": [
    "cards = [13,11,10,10,10,7, 4, 3,2,1,0]\n",
    "\n",
    "locate_card(cards, 10)"
   ]
  },
  {
   "cell_type": "markdown",
   "id": "879049c1-5873-4a38-8447-3e0d93ea24a1",
   "metadata": {},
   "source": [
    "### ✨ Binary Search\n",
    "\n",
    "Question: Given an array of integers nums sorted in ascending order, find the starting and ending position of a given number."
   ]
  },
  {
   "cell_type": "code",
   "execution_count": 1,
   "id": "fd815cd9-c77b-4c7f-b7fa-ad9d6ba074ae",
   "metadata": {},
   "outputs": [],
   "source": [
    "def binary_search(low, high, check_condition):\n",
    "    \n",
    "    while low <= high:\n",
    "        \n",
    "        mid = (low + high) // 2\n",
    "        \n",
    "        if check_condition(mid) == 'found':\n",
    "            return mid\n",
    "        elif check_condition(mid) == 'left':\n",
    "            high = mid -1\n",
    "        else:\n",
    "            low = mid + 1\n",
    "            \n",
    "    return -1"
   ]
  },
  {
   "cell_type": "code",
   "execution_count": 2,
   "id": "288941e9-fa2d-44ed-8f63-263deea130a0",
   "metadata": {},
   "outputs": [],
   "source": [
    "def first_position(cards, query):\n",
    "    def check_condition(mid):\n",
    "        if cards[mid] == query:\n",
    "            if mid > 0 and cards[mid -1] == query:\n",
    "                return 'left'\n",
    "            else:\n",
    "                return 'found'\n",
    "        elif cards[mid] > query:\n",
    "            return 'right'\n",
    "        else:\n",
    "            return 'left'\n",
    "    return binary_search(0, len(cards), check_condition)\n",
    "\n",
    "def last_position(cards, query):\n",
    "    def check_condition(mid):\n",
    "        if cards[mid] == query:\n",
    "            if mid < len(cards) - 1 and cards[mid + 1] == query:\n",
    "                return 'right'\n",
    "            else:\n",
    "                return 'found'\n",
    "        elif cards[mid] > query:\n",
    "            return 'right'\n",
    "        else:\n",
    "            return 'left'\n",
    "    return binary_search(0, len(cards), check_condition)\n",
    "\n",
    "def first_last_position(cards, query):\n",
    "    return first_position(cards, query), last_position(cards, query)"
   ]
  },
  {
   "cell_type": "code",
   "execution_count": 4,
   "id": "03afe84d-2090-43c9-a2f1-3a5cc296cca2",
   "metadata": {},
   "outputs": [
    {
     "data": {
      "text/plain": [
       "(2, 4)"
      ]
     },
     "execution_count": 4,
     "metadata": {},
     "output_type": "execute_result"
    }
   ],
   "source": [
    "cards = [13,11,10,10,10,7, 4, 3,2,1,0]\n",
    "first_last_position(cards, 10)"
   ]
  },
  {
   "cell_type": "code",
   "execution_count": null,
   "id": "f0a0c230-36c8-4fc0-a70d-8ea763a91a7c",
   "metadata": {},
   "outputs": [],
   "source": []
  }
 ],
 "metadata": {
  "kernelspec": {
   "display_name": "default:Python",
   "language": "python",
   "name": "conda-env-default-py"
  },
  "language_info": {
   "codemirror_mode": {
    "name": "ipython",
    "version": 3
   },
   "file_extension": ".py",
   "mimetype": "text/x-python",
   "name": "python",
   "nbconvert_exporter": "python",
   "pygments_lexer": "ipython3",
   "version": "3.9.12"
  }
 },
 "nbformat": 4,
 "nbformat_minor": 5
}
