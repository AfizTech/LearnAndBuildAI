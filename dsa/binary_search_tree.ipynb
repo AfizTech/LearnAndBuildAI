{
 "cells": [
  {
   "cell_type": "markdown",
   "id": "fcf2ab9b-7b40-440e-9748-787445308e30",
   "metadata": {},
   "source": [
    "### ✅ Binary Search Tree implementation in Python : @itsafiz"
   ]
  },
  {
   "cell_type": "code",
   "execution_count": 1,
   "id": "066faec4-3dee-47ce-a0ec-adb36266e469",
   "metadata": {},
   "outputs": [],
   "source": [
    "class Node:\n",
    "    def __init__(self, key):\n",
    "        self.key = key\n",
    "        self.left, self.right = None, None"
   ]
  },
  {
   "cell_type": "markdown",
   "id": "1b1e7c27-e0b0-4e63-8878-83cb2dfca40f",
   "metadata": {},
   "source": [
    "#### Insert "
   ]
  },
  {
   "cell_type": "code",
   "execution_count": 3,
   "id": "d80ae3c8-3b16-4281-b99e-ccd9c4d50eff",
   "metadata": {
    "tags": []
   },
   "outputs": [],
   "source": [
    "def insert(node, key):\n",
    "    if node is None:\n",
    "        node = Node(key)\n",
    "    elif node.key > key:\n",
    "        node.left = insert(node.left, key)\n",
    "    elif node.key < key:\n",
    "        node.right = insert(node.right, key)\n",
    "    return node"
   ]
  },
  {
   "cell_type": "markdown",
   "id": "17cc344e-5135-421a-9916-1dca035c6869",
   "metadata": {
    "tags": []
   },
   "source": [
    "#### Inorder Traversal"
   ]
  },
  {
   "cell_type": "code",
   "execution_count": 3,
   "id": "77da0f59-549d-4f2a-8621-41b480732f11",
   "metadata": {},
   "outputs": [],
   "source": [
    "def inorder(node):\n",
    "    if node is None:\n",
    "        return []\n",
    "    return (inorder(node.left) + [node.key] + inorder(node.right))"
   ]
  },
  {
   "cell_type": "code",
   "execution_count": 4,
   "id": "113db9bb-49b4-45dd-be31-6948079db389",
   "metadata": {},
   "outputs": [],
   "source": [
    "r = Node(50)\n",
    "for i in [30, 70, 10, 60, 88, 35, 65, 5]:\n",
    "    r = insert(r, i)"
   ]
  },
  {
   "cell_type": "code",
   "execution_count": 5,
   "id": "6e9df193-b911-4202-ac31-58711f8a1644",
   "metadata": {},
   "outputs": [
    {
     "data": {
      "text/plain": [
       "[5, 10, 20, 25, 50, 55, 60, 65, 70]"
      ]
     },
     "execution_count": 5,
     "metadata": {},
     "output_type": "execute_result"
    }
   ],
   "source": [
    "inorder(r)"
   ]
  },
  {
   "cell_type": "markdown",
   "id": "a83f6abf-060f-4731-b55b-0ac4106a4aa5",
   "metadata": {},
   "source": [
    "# ✅ Traversing a Binary Tree"
   ]
  },
  {
   "cell_type": "markdown",
   "id": "90fff442-dc8d-46ca-a340-d88014d9789a",
   "metadata": {},
   "source": [
    "### 1️⃣ Inorder Tree Traversal"
   ]
  },
  {
   "cell_type": "code",
   "execution_count": 5,
   "id": "ff5964ba-6cf2-4161-8de5-64066e20a041",
   "metadata": {},
   "outputs": [
    {
     "data": {
      "text/plain": [
       "[5, 10, 30, 35, 50, 60, 65, 70, 88]"
      ]
     },
     "execution_count": 5,
     "metadata": {},
     "output_type": "execute_result"
    }
   ],
   "source": [
    "def inorder(node):\n",
    "    if node is None:\n",
    "        return []\n",
    "    return (inorder(node.left) + [node.key] + inorder(node.right))\n",
    "\n",
    "inorder(r)"
   ]
  },
  {
   "cell_type": "markdown",
   "id": "276aa824-35e5-4330-a768-7f5642997b94",
   "metadata": {},
   "source": [
    "#### 2️⃣ Pre-Order Tree traversal"
   ]
  },
  {
   "cell_type": "code",
   "execution_count": 6,
   "id": "8a4ff187-29ba-474e-8f8f-de943fa48687",
   "metadata": {},
   "outputs": [
    {
     "data": {
      "text/plain": [
       "[50, 30, 10, 5, 35, 70, 60, 65, 88]"
      ]
     },
     "execution_count": 6,
     "metadata": {},
     "output_type": "execute_result"
    }
   ],
   "source": [
    "def preorder(node):\n",
    "    if node is None:\n",
    "        return []\n",
    "    return ([node.key]+ preorder(node.left) + preorder(node.right))\n",
    "preorder(r)"
   ]
  },
  {
   "cell_type": "markdown",
   "id": "accad9de-56b6-4c65-b0cb-1bfe8f5766e4",
   "metadata": {},
   "source": [
    "#### 3️⃣ Post-Order Tree traversal"
   ]
  },
  {
   "cell_type": "code",
   "execution_count": 7,
   "id": "57303be0-954d-457a-81b9-5a9e546ddbc8",
   "metadata": {},
   "outputs": [
    {
     "data": {
      "text/plain": [
       "[5, 10, 35, 30, 65, 60, 88, 70, 50]"
      ]
     },
     "execution_count": 7,
     "metadata": {},
     "output_type": "execute_result"
    }
   ],
   "source": [
    "def postorder(node):\n",
    "    if node is None:\n",
    "        return []\n",
    "    return (postorder(node.left) +  \n",
    "            postorder(node.right) + \n",
    "            [node.key])\n",
    "postorder(r)"
   ]
  },
  {
   "cell_type": "markdown",
   "id": "a9f61fce-fb34-44ed-a832-cf3bf3a57cc1",
   "metadata": {},
   "source": [
    "🟡 If you like this content, follow me **@itsafiz**. RT and Like ❤️ for better reach"
   ]
  },
  {
   "cell_type": "markdown",
   "id": "3b3fa586-32b4-48ca-9fe3-7d642a75e30d",
   "metadata": {},
   "source": [
    "# 🚀 Height and Size of a Binary Search Tree"
   ]
  },
  {
   "cell_type": "code",
   "execution_count": 12,
   "id": "703a35ce-4118-4c49-86ed-029b13a1ba5a",
   "metadata": {},
   "outputs": [
    {
     "data": {
      "text/plain": [
       "4"
      ]
     },
     "execution_count": 12,
     "metadata": {},
     "output_type": "execute_result"
    }
   ],
   "source": [
    "def height_of_bst(node):\n",
    "    if node is None:\n",
    "        return 0\n",
    "    return 1 + max(height_of_bst(node.left), height_of_bst(node.right))\n",
    "height_of_bst(r)"
   ]
  },
  {
   "cell_type": "markdown",
   "id": "6a658cf2-18ec-4d4b-8bf4-174978d64edc",
   "metadata": {},
   "source": [
    "🟡 If you like this content, follow me **@itsafiz**. RT and Like ❤️ for better reach"
   ]
  },
  {
   "cell_type": "code",
   "execution_count": 13,
   "id": "3be74cb1-feea-4d91-8d9b-851a1e4a250b",
   "metadata": {},
   "outputs": [
    {
     "data": {
      "text/plain": [
       "9"
      ]
     },
     "execution_count": 13,
     "metadata": {},
     "output_type": "execute_result"
    }
   ],
   "source": [
    "def size_of_bst(node):\n",
    "    if node is None:\n",
    "        return 0\n",
    "    return 1 + size_of_bst(node.left) + size_of_bst(node.right)\n",
    "size_of_bst(r)"
   ]
  }
 ],
 "metadata": {
  "kernelspec": {
   "display_name": "default:Python",
   "language": "python",
   "name": "conda-env-default-py"
  },
  "language_info": {
   "codemirror_mode": {
    "name": "ipython",
    "version": 3
   },
   "file_extension": ".py",
   "mimetype": "text/x-python",
   "name": "python",
   "nbconvert_exporter": "python",
   "pygments_lexer": "ipython3",
   "version": "3.9.12"
  }
 },
 "nbformat": 4,
 "nbformat_minor": 5
}
