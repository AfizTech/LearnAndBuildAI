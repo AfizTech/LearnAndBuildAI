{
 "cells": [
  {
   "cell_type": "markdown",
   "id": "fcf2ab9b-7b40-440e-9748-787445308e30",
   "metadata": {},
   "source": [
    "### ✅ Binary Search Tree implementation in Python : @itsafiz"
   ]
  },
  {
   "cell_type": "code",
   "execution_count": 1,
   "id": "066faec4-3dee-47ce-a0ec-adb36266e469",
   "metadata": {},
   "outputs": [],
   "source": [
    "class Node:\n",
    "    def __init__(self, key):\n",
    "        self.key = key\n",
    "        self.left, self.right = None, None"
   ]
  },
  {
   "cell_type": "markdown",
   "id": "1b1e7c27-e0b0-4e63-8878-83cb2dfca40f",
   "metadata": {},
   "source": [
    "#### Insert "
   ]
  },
  {
   "cell_type": "code",
   "execution_count": 2,
   "id": "d80ae3c8-3b16-4281-b99e-ccd9c4d50eff",
   "metadata": {
    "tags": []
   },
   "outputs": [],
   "source": [
    "def insert(node, key):\n",
    "    if node is None:\n",
    "        node = Node(key)\n",
    "    elif node.key > key:\n",
    "        node.left = insert(node.left, key)\n",
    "    elif node.key < key:\n",
    "        node.right = insert(node.right, key)\n",
    "    return node"
   ]
  },
  {
   "cell_type": "markdown",
   "id": "17cc344e-5135-421a-9916-1dca035c6869",
   "metadata": {
    "tags": []
   },
   "source": [
    "#### Inorder Traversal"
   ]
  },
  {
   "cell_type": "code",
   "execution_count": 3,
   "id": "77da0f59-549d-4f2a-8621-41b480732f11",
   "metadata": {},
   "outputs": [],
   "source": [
    "def inorder(node):\n",
    "    if node is None:\n",
    "        return []\n",
    "    return (inorder(node.left) + [node.key] + inorder(node.right))"
   ]
  },
  {
   "cell_type": "code",
   "execution_count": 4,
   "id": "113db9bb-49b4-45dd-be31-6948079db389",
   "metadata": {},
   "outputs": [],
   "source": [
    "r = Node(50)\n",
    "for i in range(10, 80, 10):\n",
    "    r = insert(r, i)"
   ]
  },
  {
   "cell_type": "code",
   "execution_count": 5,
   "id": "6e9df193-b911-4202-ac31-58711f8a1644",
   "metadata": {},
   "outputs": [
    {
     "data": {
      "text/plain": [
       "[10, 20, 30, 40, 50, 60, 70]"
      ]
     },
     "execution_count": 5,
     "metadata": {},
     "output_type": "execute_result"
    }
   ],
   "source": [
    "inorder(r)"
   ]
  },
  {
   "cell_type": "code",
   "execution_count": null,
   "id": "63995ca8-d030-4afa-8646-249b4124713e",
   "metadata": {},
   "outputs": [],
   "source": []
  }
 ],
 "metadata": {
  "kernelspec": {
   "display_name": "default:Python",
   "language": "python",
   "name": "conda-env-default-py"
  },
  "language_info": {
   "codemirror_mode": {
    "name": "ipython",
    "version": 3
   },
   "file_extension": ".py",
   "mimetype": "text/x-python",
   "name": "python",
   "nbconvert_exporter": "python",
   "pygments_lexer": "ipython3",
   "version": "3.9.12"
  }
 },
 "nbformat": 4,
 "nbformat_minor": 5
}
