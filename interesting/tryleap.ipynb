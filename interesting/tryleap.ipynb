{
  "cells": [
    {
      "cell_type": "markdown",
      "metadata": {
        "id": "view-in-github",
        "colab_type": "text"
      },
      "source": [
        "<a href=\"https://colab.research.google.com/github/afizs/python-notes/blob/main/interesting/tryleap.ipynb\" target=\"_parent\"><img src=\"https://colab.research.google.com/assets/colab-badge.svg\" alt=\"Open In Colab\"/></a>"
      ]
    },
    {
      "cell_type": "code",
      "execution_count": null,
      "id": "edeb9027-1735-4700-81e7-45468b25bcd2",
      "metadata": {
        "id": "edeb9027-1735-4700-81e7-45468b25bcd2"
      },
      "outputs": [],
      "source": [
        "YOUR_API_KEY = 'Your Leap AI API Key'\n",
        "modelId = '8b1b897c-d66d-45a6-b8d7-8e32421d02cf' # You can use different model ID"
      ]
    },
    {
      "cell_type": "code",
      "execution_count": null,
      "id": "7b5bd28b-a513-49f2-b6f8-8c76c2e8a4f5",
      "metadata": {
        "id": "7b5bd28b-a513-49f2-b6f8-8c76c2e8a4f5",
        "outputId": "a2d286e2-abc9-430a-fda2-1c673e7a83b0"
      },
      "outputs": [
        {
          "name": "stderr",
          "output_type": "stream",
          "text": [
            "/home/studio-lab-user/.conda/envs/default/lib/python3.9/site-packages/requests/__init__.py:102: RequestsDependencyWarning: urllib3 (1.26.13) or chardet (5.0.0)/charset_normalizer (2.0.12) doesn't match a supported version!\n",
            "  warnings.warn(\"urllib3 ({}) or chardet ({})/charset_normalizer ({}) doesn't match a supported \"\n"
          ]
        },
        {
          "name": "stdout",
          "output_type": "stream",
          "text": [
            "{\"status\":\"queued\",\"id\":\"f6445a7a-72d2-48a1-8f9c-bc6f7f7a3bdf\",\"prompt\":\"an astronaut riding a horse\",\"negativePrompt\":\"\",\"seed\":18218,\"width\":512,\"height\":512,\"numberOfImages\":1,\"steps\":25,\"createdAt\":\"2023-03-23T10:36:18.123Z\",\"promptStrength\":7,\"images\":[],\"modelId\":\"8b1b897c-d66d-45a6-b8d7-8e32421d02cf\"}\n"
          ]
        }
      ],
      "source": [
        "import requests\n",
        "\n",
        "url = f\"https://api.tryleap.ai/api/v1/images/models/{modelId}/inferences\"\n",
        "\n",
        "payload = {\n",
        "    \"prompt\": \"an astronaut riding a horse\",\n",
        "    \"steps\": 25,\n",
        "    \"width\": 512,\n",
        "    \"height\": 512,\n",
        "    \"numberOfImages\": 1\n",
        "}\n",
        "headers = {\n",
        "    \"accept\": \"application/json\",\n",
        "    \"content-type\": \"application/json\",\n",
        "    \"authorization\": f\"Bearer {YOUR_API_KEY}\"\n",
        "}\n",
        "\n",
        "response = requests.post(url, json=payload, headers=headers)\n",
        "\n",
        "print(response.text)\n"
      ]
    },
    {
      "cell_type": "code",
      "execution_count": null,
      "id": "da55ab50-dc94-4c8c-a859-f070c8543c7d",
      "metadata": {
        "id": "da55ab50-dc94-4c8c-a859-f070c8543c7d",
        "outputId": "56cdc83b-162c-45b9-fe7c-ac6552b05bce"
      },
      "outputs": [
        {
          "name": "stdout",
          "output_type": "stream",
          "text": [
            "https://dreamtrain.s3.us-west-2.amazonaws.com/image-gen-f6445a7a-72d2-48a1-8f9c-bc6f7f7a3bdf/generated_images/0.png\n"
          ]
        }
      ],
      "source": [
        "import requests\n",
        "\n",
        "url = f\"https://api.tryleap.ai/api/v1/images/models/{modelId}/inferences/f6445a7a-72d2-48a1-8f9c-bc6f7f7a3bdf\"\n",
        "\n",
        "headers = {\"authorization\": f\"Bearer {YOUR_API_KEY}\"}\n",
        "\n",
        "response = requests.get(url, headers=headers)\n",
        "\n",
        "print(response.json()['images'][0]['uri'])"
      ]
    }
  ],
  "metadata": {
    "kernelspec": {
      "display_name": "default:Python",
      "language": "python",
      "name": "conda-env-default-py"
    },
    "language_info": {
      "codemirror_mode": {
        "name": "ipython",
        "version": 3
      },
      "file_extension": ".py",
      "mimetype": "text/x-python",
      "name": "python",
      "nbconvert_exporter": "python",
      "pygments_lexer": "ipython3",
      "version": "3.9.12"
    },
    "colab": {
      "provenance": [],
      "include_colab_link": true
    }
  },
  "nbformat": 4,
  "nbformat_minor": 5
}