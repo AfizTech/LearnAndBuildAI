{
 "cells": [
  {
   "cell_type": "markdown",
   "id": "490e86ca-1796-4c0e-87cc-5d58ef5ada33",
   "metadata": {},
   "source": [
    "### PyDataset - Access Datasets from Python\n",
    "\n",
    "`pip install pydataset`"
   ]
  },
  {
   "cell_type": "code",
   "execution_count": null,
   "id": "c9fe00bf-bc66-4ac3-b4c5-6de5705618c2",
   "metadata": {},
   "outputs": [],
   "source": [
    "!pip install pydataset -q"
   ]
  },
  {
   "cell_type": "markdown",
   "id": "ba901b0a-260a-4322-a13b-0178dfdcf247",
   "metadata": {},
   "source": [
    "#### 1. Start with import `data`"
   ]
  },
  {
   "cell_type": "code",
   "execution_count": 1,
   "id": "b92efb5f-0681-4287-8ad2-f671553255ac",
   "metadata": {},
   "outputs": [],
   "source": [
    "from pydataset import data"
   ]
  },
  {
   "cell_type": "markdown",
   "id": "d3228f45-1a4d-4e71-ab4e-85513ccd1749",
   "metadata": {},
   "source": [
    "#### 2. Load Titanic Data"
   ]
  },
  {
   "cell_type": "code",
   "execution_count": 2,
   "id": "07c0f8a2-e9d4-4bb8-b0e2-6421e1a7b1b7",
   "metadata": {},
   "outputs": [],
   "source": [
    "titanic = data('titanic')"
   ]
  },
  {
   "cell_type": "markdown",
   "id": "8968ffec-c546-4769-9cd4-57ba5fc121ea",
   "metadata": {},
   "source": [
    "#### 3. Display data"
   ]
  },
  {
   "cell_type": "code",
   "execution_count": 3,
   "id": "0787ef2b-82d3-4c08-92cd-115d057638a9",
   "metadata": {},
   "outputs": [
    {
     "data": {
      "text/html": [
       "<div>\n",
       "<style scoped>\n",
       "    .dataframe tbody tr th:only-of-type {\n",
       "        vertical-align: middle;\n",
       "    }\n",
       "\n",
       "    .dataframe tbody tr th {\n",
       "        vertical-align: top;\n",
       "    }\n",
       "\n",
       "    .dataframe thead th {\n",
       "        text-align: right;\n",
       "    }\n",
       "</style>\n",
       "<table border=\"1\" class=\"dataframe\">\n",
       "  <thead>\n",
       "    <tr style=\"text-align: right;\">\n",
       "      <th></th>\n",
       "      <th>class</th>\n",
       "      <th>age</th>\n",
       "      <th>sex</th>\n",
       "      <th>survived</th>\n",
       "    </tr>\n",
       "  </thead>\n",
       "  <tbody>\n",
       "    <tr>\n",
       "      <th>1</th>\n",
       "      <td>1st class</td>\n",
       "      <td>adults</td>\n",
       "      <td>man</td>\n",
       "      <td>yes</td>\n",
       "    </tr>\n",
       "    <tr>\n",
       "      <th>2</th>\n",
       "      <td>1st class</td>\n",
       "      <td>adults</td>\n",
       "      <td>man</td>\n",
       "      <td>yes</td>\n",
       "    </tr>\n",
       "    <tr>\n",
       "      <th>3</th>\n",
       "      <td>1st class</td>\n",
       "      <td>adults</td>\n",
       "      <td>man</td>\n",
       "      <td>yes</td>\n",
       "    </tr>\n",
       "    <tr>\n",
       "      <th>4</th>\n",
       "      <td>1st class</td>\n",
       "      <td>adults</td>\n",
       "      <td>man</td>\n",
       "      <td>yes</td>\n",
       "    </tr>\n",
       "    <tr>\n",
       "      <th>5</th>\n",
       "      <td>1st class</td>\n",
       "      <td>adults</td>\n",
       "      <td>man</td>\n",
       "      <td>yes</td>\n",
       "    </tr>\n",
       "  </tbody>\n",
       "</table>\n",
       "</div>"
      ],
      "text/plain": [
       "       class     age  sex survived\n",
       "1  1st class  adults  man      yes\n",
       "2  1st class  adults  man      yes\n",
       "3  1st class  adults  man      yes\n",
       "4  1st class  adults  man      yes\n",
       "5  1st class  adults  man      yes"
      ]
     },
     "execution_count": 3,
     "metadata": {},
     "output_type": "execute_result"
    }
   ],
   "source": [
    "titanic.head()"
   ]
  },
  {
   "cell_type": "markdown",
   "id": "88d0c936-71b8-4278-a8e5-13db0f6dbe95",
   "metadata": {},
   "source": [
    "Follow me @itsafiz for more content. "
   ]
  },
  {
   "cell_type": "code",
   "execution_count": null,
   "id": "6a925153-8e3c-47da-8284-16a3829041c2",
   "metadata": {},
   "outputs": [],
   "source": []
  }
 ],
 "metadata": {
  "kernelspec": {
   "display_name": "default:Python",
   "language": "python",
   "name": "conda-env-default-py"
  },
  "language_info": {
   "codemirror_mode": {
    "name": "ipython",
    "version": 3
   },
   "file_extension": ".py",
   "mimetype": "text/x-python",
   "name": "python",
   "nbconvert_exporter": "python",
   "pygments_lexer": "ipython3",
   "version": "3.9.12"
  }
 },
 "nbformat": 4,
 "nbformat_minor": 5
}
