{
 "cells": [
  {
   "cell_type": "markdown",
   "id": "412d8ff3-3aa5-4f40-a1a2-b16a0c38d5f8",
   "metadata": {},
   "source": [
    "# Advanced Python Tutorials"
   ]
  },
  {
   "cell_type": "markdown",
   "id": "a1858955-8214-4f02-ade6-166cdd226240",
   "metadata": {},
   "source": [
    "### 1. NamedTuples"
   ]
  },
  {
   "cell_type": "code",
   "execution_count": 2,
   "id": "66d20a16-5dcf-47d0-8ace-bfc9d76eee3c",
   "metadata": {},
   "outputs": [],
   "source": [
    "# 💡 Python Tip 1: NamedTuples \n",
    "\n",
    "# 🟡 Let's define a student tuple with name, standard-section and marks\n",
    "student = ('Afiz', '5-A', 80)\n",
    "\n",
    "# The problem with tuples is, we had to remember the position of each item\n",
    "# Example:  0 for name, 2 for marks\n",
    "\n",
    "# ✅ NamedTuples allow us to access items using names instead of the position\n",
    "# Here is the example 👇\n",
    "\n",
    "from typing import NamedTuple\n",
    "\n",
    "class Student(NamedTuple):\n",
    "    name: str\n",
    "    standard: str\n",
    "    marks: int"
   ]
  },
  {
   "cell_type": "code",
   "execution_count": 3,
   "id": "7308f84d-abb6-45d9-9685-f7b814549776",
   "metadata": {},
   "outputs": [],
   "source": [
    "s = Student('Rayan', '1-B', 90)"
   ]
  },
  {
   "cell_type": "code",
   "execution_count": 4,
   "id": "40db2835-ced6-4812-98fd-93e527fcfd59",
   "metadata": {},
   "outputs": [
    {
     "data": {
      "text/plain": [
       "'Rayan'"
      ]
     },
     "execution_count": 4,
     "metadata": {},
     "output_type": "execute_result"
    }
   ],
   "source": [
    "s.name"
   ]
  },
  {
   "cell_type": "markdown",
   "id": "a54122c0-6da4-4926-969e-d53dc4f542c8",
   "metadata": {},
   "source": [
    "### 2. Special Characters "
   ]
  },
  {
   "cell_type": "code",
   "execution_count": 1,
   "id": "7443ed93-601c-41dc-82ce-886828061cf2",
   "metadata": {},
   "outputs": [],
   "source": [
    "π = 22 /7"
   ]
  },
  {
   "cell_type": "code",
   "execution_count": 2,
   "id": "7d17d714-eb47-4e96-b25f-927b7b6e7fdf",
   "metadata": {},
   "outputs": [
    {
     "name": "stdout",
     "output_type": "stream",
     "text": [
      "3.142857142857143\n"
     ]
    }
   ],
   "source": [
    "print(π)"
   ]
  },
  {
   "cell_type": "markdown",
   "id": "0d17dd0e-2d9a-4ec6-bc6e-f76d2814df45",
   "metadata": {},
   "source": [
    "### 3. Partition Method "
   ]
  },
  {
   "cell_type": "code",
   "execution_count": 2,
   "id": "3a573716-13d0-4aeb-8e2f-c1804ce16831",
   "metadata": {},
   "outputs": [],
   "source": [
    "heading =  \"Advanced Python Tutorial by Afiz\"\n",
    "title, _ , author = heading.partition('by ')"
   ]
  },
  {
   "cell_type": "code",
   "execution_count": 3,
   "id": "d5682dd4-2b98-4f25-8924-f59911a5eda1",
   "metadata": {},
   "outputs": [
    {
     "data": {
      "text/plain": [
       "'Advanced Python Tutorial '"
      ]
     },
     "execution_count": 3,
     "metadata": {},
     "output_type": "execute_result"
    }
   ],
   "source": [
    "title"
   ]
  },
  {
   "cell_type": "code",
   "execution_count": 4,
   "id": "64ea26e6-a68f-45d2-b2ea-61f22d833aa2",
   "metadata": {},
   "outputs": [
    {
     "data": {
      "text/plain": [
       "'Afiz'"
      ]
     },
     "execution_count": 4,
     "metadata": {},
     "output_type": "execute_result"
    }
   ],
   "source": [
    "author"
   ]
  },
  {
   "cell_type": "markdown",
   "id": "eeb76c41-1d1d-4e7f-b1bf-eb2b711c7577",
   "metadata": {},
   "source": [
    "### 4. format_map method "
   ]
  },
  {
   "cell_type": "code",
   "execution_count": 1,
   "id": "5c6cd4d1-77c0-4221-b6ff-241265bd98ee",
   "metadata": {},
   "outputs": [
    {
     "data": {
      "text/plain": [
       "'Afiz       - itsafiz    -       1500'"
      ]
     },
     "execution_count": 1,
     "metadata": {},
     "output_type": "execute_result"
    }
   ],
   "source": [
    "account = {'name': 'Afiz', 'id': 'itsafiz', 'followers': 1500}\n",
    "account_1 = {'name': 'Afiz Shaik', 'id': 'afizshaik', 'followers': 1500}\n",
    "\n",
    "'{name:10s} - {id:10s} - {followers:10d}'.format_map(account)"
   ]
  },
  {
   "cell_type": "code",
   "execution_count": null,
   "id": "24ca1261-c1ce-40ea-b39e-4da4b9d2eb93",
   "metadata": {},
   "outputs": [],
   "source": []
  }
 ],
 "metadata": {
  "kernelspec": {
   "display_name": "default:Python",
   "language": "python",
   "name": "conda-env-default-py"
  },
  "language_info": {
   "codemirror_mode": {
    "name": "ipython",
    "version": 3
   },
   "file_extension": ".py",
   "mimetype": "text/x-python",
   "name": "python",
   "nbconvert_exporter": "python",
   "pygments_lexer": "ipython3",
   "version": "3.9.12"
  }
 },
 "nbformat": 4,
 "nbformat_minor": 5
}
