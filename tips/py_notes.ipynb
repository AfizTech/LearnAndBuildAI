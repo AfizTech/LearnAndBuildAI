{
 "cells": [
  {
   "cell_type": "markdown",
   "id": "412d8ff3-3aa5-4f40-a1a2-b16a0c38d5f8",
   "metadata": {},
   "source": [
    "# Python Tips, Tricks and Notes"
   ]
  },
  {
   "cell_type": "code",
   "execution_count": 2,
   "id": "66d20a16-5dcf-47d0-8ace-bfc9d76eee3c",
   "metadata": {},
   "outputs": [],
   "source": [
    "# 💡 Python Tip 1: NamedTuples \n",
    "\n",
    "# 🟡 Let's define a student tuple with name, standard-section and marks\n",
    "student = ('Afiz', '5-A', 80)\n",
    "\n",
    "# The problem with tuples is, we had to remember the position of each item\n",
    "# Example:  0 for name, 2 for marks\n",
    "\n",
    "# ✅ NamedTuples allow us to access items using names instead of the position\n",
    "# Here is the example 👇\n",
    "\n",
    "from typing import NamedTuple\n",
    "\n",
    "class Student(NamedTuple):\n",
    "    name: str\n",
    "    standard: str\n",
    "    marks: int"
   ]
  },
  {
   "cell_type": "code",
   "execution_count": 3,
   "id": "7308f84d-abb6-45d9-9685-f7b814549776",
   "metadata": {},
   "outputs": [],
   "source": [
    "s = Student('Rayan', '1-B', 90)"
   ]
  },
  {
   "cell_type": "code",
   "execution_count": 4,
   "id": "40db2835-ced6-4812-98fd-93e527fcfd59",
   "metadata": {},
   "outputs": [
    {
     "data": {
      "text/plain": [
       "'Rayan'"
      ]
     },
     "execution_count": 4,
     "metadata": {},
     "output_type": "execute_result"
    }
   ],
   "source": [
    "s.name"
   ]
  },
  {
   "cell_type": "code",
   "execution_count": null,
   "id": "c89c7b98-e93e-43f4-af28-5945338c95c8",
   "metadata": {},
   "outputs": [],
   "source": []
  }
 ],
 "metadata": {
  "kernelspec": {
   "display_name": "default:Python",
   "language": "python",
   "name": "conda-env-default-py"
  },
  "language_info": {
   "codemirror_mode": {
    "name": "ipython",
    "version": 3
   },
   "file_extension": ".py",
   "mimetype": "text/x-python",
   "name": "python",
   "nbconvert_exporter": "python",
   "pygments_lexer": "ipython3",
   "version": "3.9.12"
  }
 },
 "nbformat": 4,
 "nbformat_minor": 5
}
