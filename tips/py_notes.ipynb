{
 "cells": [
  {
   "cell_type": "markdown",
   "id": "412d8ff3-3aa5-4f40-a1a2-b16a0c38d5f8",
   "metadata": {},
   "source": [
    "# Advanced Python Tutorials"
   ]
  },
  {
   "cell_type": "markdown",
   "id": "a1858955-8214-4f02-ade6-166cdd226240",
   "metadata": {},
   "source": [
    "### 1. NamedTuples"
   ]
  },
  {
   "cell_type": "code",
   "execution_count": 2,
   "id": "66d20a16-5dcf-47d0-8ace-bfc9d76eee3c",
   "metadata": {},
   "outputs": [],
   "source": [
    "# 💡 Python Tip 1: NamedTuples \n",
    "\n",
    "# 🟡 Let's define a student tuple with name, standard-section and marks\n",
    "student = ('Afiz', '5-A', 80)\n",
    "\n",
    "# The problem with tuples is, we had to remember the position of each item\n",
    "# Example:  0 for name, 2 for marks\n",
    "\n",
    "# ✅ NamedTuples allow us to access items using names instead of the position\n",
    "# Here is the example 👇\n",
    "\n",
    "from typing import NamedTuple\n",
    "\n",
    "class Student(NamedTuple):\n",
    "    name: str\n",
    "    standard: str\n",
    "    marks: int"
   ]
  },
  {
   "cell_type": "code",
   "execution_count": 3,
   "id": "7308f84d-abb6-45d9-9685-f7b814549776",
   "metadata": {},
   "outputs": [],
   "source": [
    "s = Student('Rayan', '1-B', 90)"
   ]
  },
  {
   "cell_type": "code",
   "execution_count": 4,
   "id": "40db2835-ced6-4812-98fd-93e527fcfd59",
   "metadata": {},
   "outputs": [
    {
     "data": {
      "text/plain": [
       "'Rayan'"
      ]
     },
     "execution_count": 4,
     "metadata": {},
     "output_type": "execute_result"
    }
   ],
   "source": [
    "s.name"
   ]
  },
  {
   "cell_type": "markdown",
   "id": "a54122c0-6da4-4926-969e-d53dc4f542c8",
   "metadata": {},
   "source": [
    "### 2. Special Characters "
   ]
  },
  {
   "cell_type": "code",
   "execution_count": 1,
   "id": "7443ed93-601c-41dc-82ce-886828061cf2",
   "metadata": {},
   "outputs": [],
   "source": [
    "π = 22 /7"
   ]
  },
  {
   "cell_type": "code",
   "execution_count": 2,
   "id": "7d17d714-eb47-4e96-b25f-927b7b6e7fdf",
   "metadata": {},
   "outputs": [
    {
     "name": "stdout",
     "output_type": "stream",
     "text": [
      "3.142857142857143\n"
     ]
    }
   ],
   "source": [
    "print(π)"
   ]
  },
  {
   "cell_type": "markdown",
   "id": "0d17dd0e-2d9a-4ec6-bc6e-f76d2814df45",
   "metadata": {},
   "source": [
    "### 3. Partition Method "
   ]
  },
  {
   "cell_type": "code",
   "execution_count": 2,
   "id": "3a573716-13d0-4aeb-8e2f-c1804ce16831",
   "metadata": {},
   "outputs": [],
   "source": [
    "heading =  \"Advanced Python Tutorial by Afiz\"\n",
    "title, _ , author = heading.partition('by ')"
   ]
  },
  {
   "cell_type": "code",
   "execution_count": 3,
   "id": "d5682dd4-2b98-4f25-8924-f59911a5eda1",
   "metadata": {},
   "outputs": [
    {
     "data": {
      "text/plain": [
       "'Advanced Python Tutorial '"
      ]
     },
     "execution_count": 3,
     "metadata": {},
     "output_type": "execute_result"
    }
   ],
   "source": [
    "title"
   ]
  },
  {
   "cell_type": "code",
   "execution_count": 4,
   "id": "64ea26e6-a68f-45d2-b2ea-61f22d833aa2",
   "metadata": {},
   "outputs": [
    {
     "data": {
      "text/plain": [
       "'Afiz'"
      ]
     },
     "execution_count": 4,
     "metadata": {},
     "output_type": "execute_result"
    }
   ],
   "source": [
    "author"
   ]
  },
  {
   "cell_type": "markdown",
   "id": "eeb76c41-1d1d-4e7f-b1bf-eb2b711c7577",
   "metadata": {},
   "source": [
    "### 4. format_map method "
   ]
  },
  {
   "cell_type": "code",
   "execution_count": 1,
   "id": "5c6cd4d1-77c0-4221-b6ff-241265bd98ee",
   "metadata": {},
   "outputs": [
    {
     "data": {
      "text/plain": [
       "'Afiz       - itsafiz    -       1500'"
      ]
     },
     "execution_count": 1,
     "metadata": {},
     "output_type": "execute_result"
    }
   ],
   "source": [
    "account = {'name': 'Afiz', 'id': 'itsafiz', 'followers': 1500}\n",
    "account_1 = {'name': 'Afiz Shaik', 'id': 'afizshaik', 'followers': 1500}\n",
    "\n",
    "'{name:10s} - {id:10s} - {followers:10d}'.format_map(account)"
   ]
  },
  {
   "cell_type": "markdown",
   "id": "05fb50a0-27f5-40a6-90f7-2ff53c1d514e",
   "metadata": {},
   "source": [
    "### 5. wifi Password as QR using Python"
   ]
  },
  {
   "cell_type": "code",
   "execution_count": 1,
   "id": "5bbe49e6-7d25-4078-b039-3d77259b325f",
   "metadata": {},
   "outputs": [
    {
     "name": "stdout",
     "output_type": "stream",
     "text": [
      "\u001b[33mWARNING: You are using pip version 21.3.1; however, version 22.2.2 is available.\n",
      "You should consider upgrading via the '/home/studio-lab-user/.conda/envs/default/bin/python -m pip install --upgrade pip' command.\u001b[0m\n"
     ]
    }
   ],
   "source": [
    "!pip install wifi-qrcode-generator -q"
   ]
  },
  {
   "cell_type": "code",
   "execution_count": 2,
   "id": "31d65c8a-1293-40b8-8bcd-13cc9efb5d57",
   "metadata": {},
   "outputs": [
    {
     "data": {
      "image/png": "[encoded data removed]",
      "text/plain": [
       "<PIL.Image.Image image mode=1 size=410x410>"
      ]
     },
     "execution_count": 2,
     "metadata": {},
     "output_type": "execute_result"
    }
   ],
   "source": [
    "import wifi_qrcode_generator as qr\n",
    "qr.wifi_qrcode('HelloWorld', False, 'WPA', 'Password')"
   ]
  },
  {
   "cell_type": "markdown",
   "id": "9192714d-9707-4a1c-bbb6-fab40a3228ae",
   "metadata": {},
   "source": [
    "### 6. `__del__` magic method\n",
    "\n",
    "The `__del__()` method is a known as a destructor method.   \n",
    "It is called when an object is garbage collected which happens   \n",
    "after all references to the object have been deleted.  \n",
    "\n",
    "\n",
    "coming to problem, if you run this code in jupyter notebook or   \n",
    "Interactive mode(REPL), NOTHING gets printed, because session is  \n",
    "active and none of objects are garbage collected.   \n",
    "\n",
    "🟡 Example 👇    "
   ]
  },
  {
   "cell_type": "code",
   "execution_count": 1,
   "id": "7550f4c4-5bce-468d-8a5b-cad024778a4a",
   "metadata": {},
   "outputs": [],
   "source": [
    "class Spam:\n",
    "    def __del__(self):\n",
    "        print('Deleted')\n",
    "\n",
    "x = Spam()\n",
    "y = x\n",
    "del y"
   ]
  },
  {
   "cell_type": "markdown",
   "id": "37b158b0-b01f-4228-8e02-c353a2596cdb",
   "metadata": {},
   "source": [
    "You might be thinking, how can we get **Deleted** message.  \n",
    "   \n",
    "There are two ways   \n",
    "1. Run the code as program \n",
    "2. Create a function\n",
    "\n",
    "I will show you the 2nd method 👇\n"
   ]
  },
  {
   "cell_type": "code",
   "execution_count": 2,
   "id": "6803693d-6eb1-402b-9ce0-e2e19845ba01",
   "metadata": {},
   "outputs": [
    {
     "name": "stdout",
     "output_type": "stream",
     "text": [
      "Deleted\n"
     ]
    }
   ],
   "source": [
    "def hello():\n",
    "    x = Spam()\n",
    "\n",
    "hello()"
   ]
  },
  {
   "cell_type": "markdown",
   "id": "497de399-a21e-40d7-aaba-c56552d05652",
   "metadata": {},
   "source": [
    "✅ You might have noticed I didn't even called del 😂   \n",
    "I hope you got the point. If you like what you see. \n",
    "\n",
    "follow me at @itsafiz\n",
    "\n",
    "Cheers 🎉"
   ]
  },
  {
   "cell_type": "markdown",
   "id": "0f32eea8-ebb8-4993-b8a5-7cfb9d7d489f",
   "metadata": {},
   "source": [
    "### 7. `__del__` method with two objects of same name\n",
    "\n",
    "\n",
    "The `__del__()` method is a known as a destructor method.   \n",
    "It is called when an object is garbage collected which happens   \n",
    "after all references to the object have been deleted.  \n",
    "\n",
    "\n",
    "Coming to the problem,   \n",
    "\n",
    "1️⃣ if you run this code in jupyter notebook or   \n",
    "Interactive mode(REPL), **Deleted** is printed once.  \n",
    "\n",
    "Here is the explanation 👇 \n",
    "\n",
    "1. `x = Spam()`  # creates the object of Spam  \n",
    "2. `x = Spam() ` # since there are reference to X, **Deleted**  printed \n",
    "\n",
    "\n",
    "2️⃣ If you run this code as script, **Deleted**  gets printed twice as  \n",
    "two objects are created. \n",
    " "
   ]
  },
  {
   "cell_type": "code",
   "execution_count": 1,
   "id": "be2497a7-5c4f-47be-b68e-9aa572684768",
   "metadata": {},
   "outputs": [
    {
     "name": "stdout",
     "output_type": "stream",
     "text": [
      "Deleted\n"
     ]
    }
   ],
   "source": [
    "class Spam:\n",
    "    def __del__(self):\n",
    "        print('Deleted')\n",
    "\n",
    "x = Spam()\n",
    "x = Spam()"
   ]
  },
  {
   "cell_type": "code",
   "execution_count": null,
   "id": "c6d0b71c-9541-41de-82b4-a89582f77f72",
   "metadata": {},
   "outputs": [],
   "source": []
  }
 ],
 "metadata": {
  "kernelspec": {
   "display_name": "default:Python",
   "language": "python",
   "name": "conda-env-default-py"
  },
  "language_info": {
   "codemirror_mode": {
    "name": "ipython",
    "version": 3
   },
   "file_extension": ".py",
   "mimetype": "text/x-python",
   "name": "python",
   "nbconvert_exporter": "python",
   "pygments_lexer": "ipython3",
   "version": "3.9.12"
  }
 },
 "nbformat": 4,
 "nbformat_minor": 5
}
