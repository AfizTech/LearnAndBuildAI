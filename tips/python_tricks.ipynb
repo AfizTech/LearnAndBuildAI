{
 "cells": [
  {
   "cell_type": "code",
   "execution_count": 1,
   "id": "9c8696f4-f0cb-47c7-99dc-10fd75230ce1",
   "metadata": {},
   "outputs": [],
   "source": [
    "!pip install google -q"
   ]
  },
  {
   "cell_type": "code",
   "execution_count": 2,
   "id": "aa432ec6-4d12-400c-8fe1-f0593916ae7d",
   "metadata": {},
   "outputs": [
    {
     "name": "stdout",
     "output_type": "stream",
     "text": [
      "https://www.coursera.org/courses?query=free%20courses%20data%20science\n",
      "https://medium.com/javarevisited/10-free-data-science-online-courses-for-beginners-a5fe78c2cb7b\n",
      "https://www.udacity.com/course/intro-to-data-science--ud359\n",
      "https://www.mygreatlearning.com/data-science/free-courses\n",
      "https://www.simplilearn.com/data-science-free-course-for-beginners-skillup\n",
      "https://www.simplilearn.com/data-science-free-courses-article\n",
      "https://www.edx.org/learn/data-science\n",
      "https://www.edx.org/learn/data-analysis\n",
      "https://pll.harvard.edu/subject/data-science\n",
      "https://careerfoundry.com/en/blog/data-analytics/free-data-analytics-courses/\n"
     ]
    }
   ],
   "source": [
    "from googlesearch import search\n",
    "query = \"Free Data Science courses\"\n",
    "for result in search(query, num=10, stop=10, pause=5):\n",
    "    print(result)"
   ]
  },
  {
   "cell_type": "code",
   "execution_count": null,
   "id": "6004bf9a-89b1-4d8f-a4ca-3151d469872c",
   "metadata": {},
   "outputs": [],
   "source": []
  }
 ],
 "metadata": {
  "kernelspec": {
   "display_name": "default:Python",
   "language": "python",
   "name": "conda-env-default-py"
  },
  "language_info": {
   "codemirror_mode": {
    "name": "ipython",
    "version": 3
   },
   "file_extension": ".py",
   "mimetype": "text/x-python",
   "name": "python",
   "nbconvert_exporter": "python",
   "pygments_lexer": "ipython3",
   "version": "3.9.12"
  }
 },
 "nbformat": 4,
 "nbformat_minor": 5
}
