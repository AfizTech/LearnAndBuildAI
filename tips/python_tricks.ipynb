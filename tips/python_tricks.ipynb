{
 "cells": [
  {
   "cell_type": "code",
   "execution_count": 1,
   "id": "9c8696f4-f0cb-47c7-99dc-10fd75230ce1",
   "metadata": {},
   "outputs": [],
   "source": [
    "!pip install google -q"
   ]
  },
  {
   "cell_type": "code",
   "execution_count": 2,
   "id": "aa432ec6-4d12-400c-8fe1-f0593916ae7d",
   "metadata": {},
   "outputs": [
    {
     "name": "stdout",
     "output_type": "stream",
     "text": [
      "https://www.coursera.org/courses?query=free%20courses%20data%20science\n",
      "https://medium.com/javarevisited/10-free-data-science-online-courses-for-beginners-a5fe78c2cb7b\n",
      "https://www.udacity.com/course/intro-to-data-science--ud359\n",
      "https://www.mygreatlearning.com/data-science/free-courses\n",
      "https://www.simplilearn.com/data-science-free-course-for-beginners-skillup\n",
      "https://www.simplilearn.com/data-science-free-courses-article\n",
      "https://www.edx.org/learn/data-science\n",
      "https://www.edx.org/learn/data-analysis\n",
      "https://pll.harvard.edu/subject/data-science\n",
      "https://careerfoundry.com/en/blog/data-analytics/free-data-analytics-courses/\n"
     ]
    }
   ],
   "source": [
    "from googlesearch import search\n",
    "query = \"Free Data Science courses\"\n",
    "for result in search(query, num=10, stop=10, pause=5):\n",
    "    print(result)"
   ]
  },
  {
   "cell_type": "code",
   "execution_count": 3,
   "id": "6004bf9a-89b1-4d8f-a4ca-3151d469872c",
   "metadata": {},
   "outputs": [
    {
     "name": "stdout",
     "output_type": "stream",
     "text": [
      "https://www.onsightapp.com/blog/youtube-tech-channels\n",
      "https://wethegeek.com/best-tech-channels-on-youtube/\n",
      "https://www.techgeek360.com/top-10-tech-youtubers-in-the-world/\n",
      "https://www.techgeek360.com/top-10-tech-youtubers-in-the-world/#Top_10_Tech_Youtubers_in_The_World\n",
      "https://www.techgeek360.com/top-10-tech-youtubers-in-the-world/#2_Mrwhosetheboss\n",
      "https://www.techgeek360.com/top-10-tech-youtubers-in-the-world/#4_Linus_Tech_Tips\n",
      "https://www.techgeek360.com/top-10-tech-youtubers-in-the-world/#5_Austin_Evans\n",
      "https://blog.bit.ai/top-tech-youtubers/\n",
      "https://blog.feedspot.com/technology_youtube_channels/\n",
      "https://blog.feedspot.com/technology_youtube_channels/#rssfsbhead\n"
     ]
    }
   ],
   "source": [
    "query = \"Top 10 Tech YouTube channels\"\n",
    "for result in search(query, num=10, stop=10, pause=5):\n",
    "    print(result)"
   ]
  },
  {
   "cell_type": "markdown",
   "id": "43138366-9ee9-4d47-b6f0-15ea3cf92709",
   "metadata": {},
   "source": [
    "## URL shortener"
   ]
  },
  {
   "cell_type": "code",
   "execution_count": 4,
   "id": "6e317d7d-5e8a-4f8d-b00a-f8aa91675e74",
   "metadata": {},
   "outputs": [],
   "source": [
    "!pip install pyshorteners -q"
   ]
  },
  {
   "cell_type": "code",
   "execution_count": 7,
   "id": "ec72fb38-85a1-4897-8010-2cba5f7e7b3d",
   "metadata": {},
   "outputs": [
    {
     "data": {
      "text/plain": [
       "'https://tinyurl.com/2zftnjkz'"
      ]
     },
     "execution_count": 7,
     "metadata": {},
     "output_type": "execute_result"
    }
   ],
   "source": [
    "from pyshorteners import Shortener\n",
    "\n",
    "Shortener().tinyurl.short(\"https://twitter.com/itsafiz\")"
   ]
  },
  {
   "cell_type": "code",
   "execution_count": null,
   "id": "1d8aa60e-b333-4113-a892-32896f790530",
   "metadata": {},
   "outputs": [],
   "source": [
    "rom pyshorteners import Shortener\n",
    "\n",
    "Shortener().tinyurl.short(\"https://tweetdeck.twitter.com/\")"
   ]
  },
  {
   "cell_type": "markdown",
   "id": "64c13769-e606-4600-9e99-276fb2d02920",
   "metadata": {},
   "source": []
  }
 ],
 "metadata": {
  "kernelspec": {
   "display_name": "default:Python",
   "language": "python",
   "name": "conda-env-default-py"
  },
  "language_info": {
   "codemirror_mode": {
    "name": "ipython",
    "version": 3
   },
   "file_extension": ".py",
   "mimetype": "text/x-python",
   "name": "python",
   "nbconvert_exporter": "python",
   "pygments_lexer": "ipython3",
   "version": "3.9.12"
  }
 },
 "nbformat": 4,
 "nbformat_minor": 5
}
