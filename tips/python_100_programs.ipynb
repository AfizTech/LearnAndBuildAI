{
 "cells": [
  {
   "cell_type": "markdown",
   "id": "e661e2bc-9ca7-419b-9bd4-98fcaa0d8e15",
   "metadata": {},
   "source": [
    "### 100. Progress Bar in Python "
   ]
  },
  {
   "cell_type": "code",
   "execution_count": null,
   "id": "61f6cb5b-2a3c-4439-8524-2eca156a80a0",
   "metadata": {},
   "outputs": [],
   "source": [
    "!pip install tqdm -q"
   ]
  },
  {
   "cell_type": "code",
   "execution_count": 5,
   "id": "1eadbc5f-c5cf-42c3-825b-dbf6d61f53e2",
   "metadata": {},
   "outputs": [
    {
     "name": "stderr",
     "output_type": "stream",
     "text": [
      "100%|██████████| 100/100 [00:40<00:00,  2.49it/s]"
     ]
    },
    {
     "name": "stdout",
     "output_type": "stream",
     "text": [
      "count = 4950\n"
     ]
    },
    {
     "name": "stderr",
     "output_type": "stream",
     "text": [
      "\n"
     ]
    }
   ],
   "source": [
    "import time\n",
    "import tqdm \n",
    "\n",
    "count = 0\n",
    "\n",
    "for i in tqdm.tqdm(range(100)):\n",
    "    count += i\n",
    "    time.sleep(0.4) # only for test\n",
    "\n",
    "print(f'{count = }')"
   ]
  },
  {
   "cell_type": "markdown",
   "id": "a2313473-2bd4-46ac-8789-5691b8505069",
   "metadata": {},
   "source": [
    "🟢 Hope you like this program! 📚  \n",
    "🟡 Follow → @itsafiz"
   ]
  },
  {
   "cell_type": "markdown",
   "id": "f738a452-f27c-4201-bad3-95815aeeb4f9",
   "metadata": {},
   "source": [
    "### 99. "
   ]
  },
  {
   "cell_type": "markdown",
   "id": "d876919c-f5fb-4e63-83b7-7f497eaab3c9",
   "metadata": {
    "tags": []
   },
   "source": [
    "🟢 Hope you like this program! 📚  \n",
    "🟡 Follow → @itsafiz"
   ]
  }
 ],
 "metadata": {
  "kernelspec": {
   "display_name": "default:Python",
   "language": "python",
   "name": "conda-env-default-py"
  },
  "language_info": {
   "codemirror_mode": {
    "name": "ipython",
    "version": 3
   },
   "file_extension": ".py",
   "mimetype": "text/x-python",
   "name": "python",
   "nbconvert_exporter": "python",
   "pygments_lexer": "ipython3",
   "version": "3.9.12"
  }
 },
 "nbformat": 4,
 "nbformat_minor": 5
}
