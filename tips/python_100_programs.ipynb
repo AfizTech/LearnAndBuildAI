{
 "cells": [
  {
   "cell_type": "markdown",
   "id": "e661e2bc-9ca7-419b-9bd4-98fcaa0d8e15",
   "metadata": {},
   "source": [
    "### 100. Progress Bar in Python "
   ]
  },
  {
   "cell_type": "code",
   "execution_count": null,
   "id": "61f6cb5b-2a3c-4439-8524-2eca156a80a0",
   "metadata": {},
   "outputs": [],
   "source": [
    "!pip install tqdm -q"
   ]
  },
  {
   "cell_type": "code",
   "execution_count": 5,
   "id": "1eadbc5f-c5cf-42c3-825b-dbf6d61f53e2",
   "metadata": {},
   "outputs": [
    {
     "name": "stderr",
     "output_type": "stream",
     "text": [
      "100%|██████████| 100/100 [00:40<00:00,  2.49it/s]"
     ]
    },
    {
     "name": "stdout",
     "output_type": "stream",
     "text": [
      "count = 4950\n"
     ]
    },
    {
     "name": "stderr",
     "output_type": "stream",
     "text": [
      "\n"
     ]
    }
   ],
   "source": [
    "import time\n",
    "import tqdm \n",
    "\n",
    "count = 0\n",
    "\n",
    "for i in tqdm.tqdm(range(100)):\n",
    "    count += i\n",
    "    time.sleep(0.4) # only for test\n",
    "\n",
    "print(f'{count = }')"
   ]
  },
  {
   "cell_type": "markdown",
   "id": "a2313473-2bd4-46ac-8789-5691b8505069",
   "metadata": {},
   "source": [
    "🟢 Hope you like this program! 📚  \n",
    "🟡 Follow → @itsafiz"
   ]
  },
  {
   "cell_type": "markdown",
   "id": "f738a452-f27c-4201-bad3-95815aeeb4f9",
   "metadata": {},
   "source": [
    "### 99. "
   ]
  },
  {
   "cell_type": "markdown",
   "id": "d876919c-f5fb-4e63-83b7-7f497eaab3c9",
   "metadata": {
    "tags": []
   },
   "source": [
    "🟢 Hope you like this program! 📚  \n",
    "🟡 Follow → @itsafiz"
   ]
  },
  {
   "cell_type": "code",
   "execution_count": null,
   "id": "af986631-8bbc-4522-905d-04cb7155735e",
   "metadata": {},
   "outputs": [],
   "source": [
    "# 2. Get the Address using Pincode "
   ]
  },
  {
   "cell_type": "code",
   "execution_count": 1,
   "id": "189d6374-4ef5-4506-9522-85ef28c461e1",
   "metadata": {},
   "outputs": [
    {
     "name": "stdout",
     "output_type": "stream",
     "text": [
      "\u001b[33mWARNING: You are using pip version 21.3.1; however, version 22.2.2 is available.\n",
      "You should consider upgrading via the '/home/studio-lab-user/.conda/envs/default/bin/python -m pip install --upgrade pip' command.\u001b[0m\n"
     ]
    }
   ],
   "source": [
    "!pip install geopy -q"
   ]
  },
  {
   "cell_type": "code",
   "execution_count": 8,
   "id": "33a4aa99-8b06-4d06-9ff8-956ee4e65ba1",
   "metadata": {},
   "outputs": [
    {
     "name": "stdin",
     "output_type": "stream",
     "text": [
      "Enter the zipcode of your city:  560005\n"
     ]
    },
    {
     "name": "stdout",
     "output_type": "stream",
     "text": [
      "\n",
      "City Details: Thanisandra, Yelahanka Zone, Bengaluru, Bangalore East, Bangalore Urban, Karnataka, 560005, India\n"
     ]
    }
   ],
   "source": [
    "from geopy.geocoders import Nominatim\n",
    "\n",
    "locator = Nominatim(user_agent='python100')\n",
    "zipcode = input('Enter the zipcode of your city: ')\n",
    "\n",
    "print(f'\\nCity Details: {locator.geocode(zipcode)}')\n"
   ]
  },
  {
   "cell_type": "markdown",
   "id": "07fd706a-314f-4d2f-b19e-aead00eb1c2a",
   "metadata": {},
   "source": [
    "### 3. Download YouTube Video"
   ]
  },
  {
   "cell_type": "code",
   "execution_count": 9,
   "id": "7befa781-7ce0-4801-b68e-b07e8f666b31",
   "metadata": {},
   "outputs": [
    {
     "name": "stdout",
     "output_type": "stream",
     "text": [
      "\u001b[33mWARNING: You are using pip version 21.3.1; however, version 22.2.2 is available.\n",
      "You should consider upgrading via the '/home/studio-lab-user/.conda/envs/default/bin/python -m pip install --upgrade pip' command.\u001b[0m\n"
     ]
    }
   ],
   "source": [
    "!pip install pytube -q"
   ]
  },
  {
   "cell_type": "code",
   "execution_count": 10,
   "id": "075a9646-7263-4b81-8c92-3479f4a6dbb4",
   "metadata": {},
   "outputs": [
    {
     "data": {
      "text/plain": [
       "'/home/studio-lab-user/sagemaker-studiolab-notebooks/python-notes/tips/YouTube Rewind 2019 For the Record  YouTubeRewind.3gpp'"
      ]
     },
     "execution_count": 10,
     "metadata": {},
     "output_type": "execute_result"
    }
   ],
   "source": [
    "from pytube import YouTube\n",
    "YouTube('https://youtu.be/2lAe1cqCOXo').streams.first().download()"
   ]
  },
  {
   "cell_type": "code",
   "execution_count": 14,
   "id": "62486813-b3dd-4fab-b04c-9700277ce1ef",
   "metadata": {},
   "outputs": [
    {
     "data": {
      "text/plain": [
       "'/home/studio-lab-user/sagemaker-studiolab-notebooks/python-notes/tips/YouTube Rewind 2019 For the Record  YouTubeRewind.mp4'"
      ]
     },
     "execution_count": 14,
     "metadata": {},
     "output_type": "execute_result"
    }
   ],
   "source": [
    "yt = YouTube('http://youtube.com/watch?v=2lAe1cqCOXo')\n",
    "yt.streams.filter(progressive=True, file_extension='mp4').order_by('resolution').desc().first().download()"
   ]
  },
  {
   "cell_type": "markdown",
   "id": "6567aa6a-7a29-48ca-959a-c393c1fb4fc1",
   "metadata": {},
   "source": [
    "### 4. URL Shortener "
   ]
  },
  {
   "cell_type": "code",
   "execution_count": 17,
   "id": "dd8a6a1a-8a88-4261-9136-ab33021210ad",
   "metadata": {},
   "outputs": [
    {
     "name": "stdout",
     "output_type": "stream",
     "text": [
      "\u001b[33mWARNING: You are using pip version 21.3.1; however, version 22.2.2 is available.\n",
      "You should consider upgrading via the '/home/studio-lab-user/.conda/envs/default/bin/python -m pip install --upgrade pip' command.\u001b[0m\n"
     ]
    }
   ],
   "source": [
    "!pip install pyshorteners -q"
   ]
  },
  {
   "cell_type": "code",
   "execution_count": 18,
   "id": "3f61dda1-1763-4c7f-bd81-cd8486a8e64f",
   "metadata": {},
   "outputs": [
    {
     "data": {
      "text/plain": [
       "'https://tinyurl.com/2zftnjkz'"
      ]
     },
     "execution_count": 18,
     "metadata": {},
     "output_type": "execute_result"
    }
   ],
   "source": [
    "from pyshorteners import Shortener\n",
    "\n",
    "Shortener().tinyurl.short('https://twitter.com/itsafiz')"
   ]
  },
  {
   "cell_type": "markdown",
   "id": "e74677f7-cc0c-40a3-a13f-7099efd423ed",
   "metadata": {},
   "source": [
    "### 5. Lock your photos using Python"
   ]
  },
  {
   "cell_type": "code",
   "execution_count": 19,
   "id": "79cd48c9-53f4-4f81-ad38-a97912bb9461",
   "metadata": {},
   "outputs": [
    {
     "name": "stdout",
     "output_type": "stream",
     "text": [
      "\u001b[33mWARNING: You are using pip version 21.3.1; however, version 22.2.2 is available.\n",
      "You should consider upgrading via the '/home/studio-lab-user/.conda/envs/default/bin/python -m pip install --upgrade pip' command.\u001b[0m\n"
     ]
    }
   ],
   "source": [
    "!pip install cryptography -q"
   ]
  },
  {
   "cell_type": "code",
   "execution_count": 22,
   "id": "c3ebfe74-289f-4aa4-9115-914a3b456b3f",
   "metadata": {},
   "outputs": [],
   "source": [
    "from cryptography.fernet import Fernet\n",
    "key = Fernet.generate_key()\n",
    "f = Fernet(key)\n",
    "\n",
    "with open('face_co.png', 'rb') as file:\n",
    "    locked = f.encrypt(file.read())"
   ]
  },
  {
   "cell_type": "code",
   "execution_count": 23,
   "id": "63e47376-598f-4601-bc7b-1e23d8eb4ec6",
   "metadata": {},
   "outputs": [],
   "source": [
    "with open('face_co.png', 'wb') as file:\n",
    "   file.write(locked)"
   ]
  },
  {
   "cell_type": "code",
   "execution_count": 24,
   "id": "4026c70d-965b-4af0-9a7b-4cff5c0f2b39",
   "metadata": {},
   "outputs": [],
   "source": [
    "unlocked = f.decrypt(locked)\n",
    "with open('face_co.png', 'wb') as file:\n",
    "   file.write(unlocked)"
   ]
  },
  {
   "cell_type": "code",
   "execution_count": 3,
   "id": "c171c9fa-f429-49fd-ab78-cf672ebbd5ac",
   "metadata": {},
   "outputs": [
    {
     "name": "stdout",
     "output_type": "stream",
     "text": [
      "Requirement already satisfied: pip in /home/studio-lab-user/.conda/envs/default/lib/python3.9/site-packages (21.3.1)\n",
      "Collecting pip\n",
      "  Downloading pip-22.2.2-py3-none-any.whl (2.0 MB)\n",
      "     |████████████████████████████████| 2.0 MB 3.5 MB/s            \n",
      "\u001b[?25hInstalling collected packages: pip\n",
      "  Attempting uninstall: pip\n",
      "    Found existing installation: pip 21.3.1\n",
      "    Uninstalling pip-21.3.1:\n",
      "      Successfully uninstalled pip-21.3.1\n",
      "Successfully installed pip-22.2.2\n",
      "Note: you may need to restart the kernel to use updated packages.\n"
     ]
    }
   ],
   "source": [
    "%pip install --upgrade pip"
   ]
  },
  {
   "cell_type": "markdown",
   "id": "bf5049c7-4cf4-4c44-ac15-298b703557aa",
   "metadata": {},
   "source": [
    "### 101. Extract Text from PDF ⚡️"
   ]
  },
  {
   "cell_type": "code",
   "execution_count": 1,
   "id": "bd940611-1ec4-4e99-b88d-1ccf0a75705f",
   "metadata": {},
   "outputs": [],
   "source": [
    "!pip install pdfplumber -q"
   ]
  },
  {
   "cell_type": "code",
   "execution_count": 2,
   "id": "3e095184-f956-4018-a07d-b83be31b7bea",
   "metadata": {},
   "outputs": [
    {
     "name": "stdout",
     "output_type": "stream",
     "text": [
      "page_no = 1\n",
      "Alice was beginning to get very tired of sitting by her sister \n",
      "on the bank, and of having nothing to do:  once or twice she had \n",
      "peeped into the book her sister was reading, but it had no \n",
      "pictures or conversations in it, `and what is the use of a book,' \n",
      "thought Alice `without pictures or conversation?' \n",
      " \n",
      "  So she was considering in her own mind (as well as she could, \n",
      "for the hot day made her feel very sleepy and stupid), whether \n",
      "the pleasure of making a daisy-chain would be worth the trouble \n",
      "of getting up and picking the daisies, when suddenly a White \n",
      "Rabbit with pink eyes ran close by her\n",
      "---------------------------------------------\n",
      "page_no = 2\n",
      "There was nothing so VERY remarkable in that; nor did Alice \n",
      "think it so VERY much out of the way to hear the Rabbit say to \n",
      "itself, `Oh dear!  Oh dear!  I shall be late!'  (when she thought \n",
      "it over afterwards, it occurred to her that she ought to have \n",
      "wondered at this, but at the time it all seemed quite natural); \n",
      "but when the Rabbit actually TOOK A WATCH OUT OF ITS WAISTCOAT- \n",
      "POCKET, and looked at it, and then hurried on, Alice started to \n",
      "her feet, for it flashed across her mind that she had never \n",
      "before seen a rabbit with either a waistcoat-pocket, or a watch to \n",
      "take out of it, and burning with curiosity, she ran across the \n",
      "field after it, and fortunately was just in time to see it pop \n",
      "down a large rabbit-hole under the hedge.\n",
      "---------------------------------------------\n",
      "page_no = 3\n",
      "In another moment down went Alice after it, never once \n",
      "considering how in the world she was to get out again. \n",
      " \n",
      "  The rabbit-hole went straight on like a tunnel for some way, \n",
      "and then dipped suddenly down, so suddenly that Alice had not a \n",
      "moment to think about stopping herself before she found herself \n",
      "falling down a very deep well.\n",
      "---------------------------------------------\n"
     ]
    }
   ],
   "source": [
    "import pdfplumber as pp\n",
    "\n",
    "with pp.open('test_data/example.pdf') as book:\n",
    "    for page_no, page in enumerate(book.pages, start=1):\n",
    "        print(f'{page_no = }')\n",
    "        data = page.extract_text()\n",
    "        print(data.strip())\n",
    "        print('-'*45)"
   ]
  },
  {
   "cell_type": "markdown",
   "id": "ee0cae90-d991-44e2-8747-7d48c92fe263",
   "metadata": {},
   "source": [
    "### 102. Create Your own Audio Book"
   ]
  },
  {
   "cell_type": "code",
   "execution_count": null,
   "id": "4eae37a0-f024-4e6a-a81a-d7dcb9cad31a",
   "metadata": {},
   "outputs": [],
   "source": [
    "%pip install pyttsx3 -q\n",
    "%pip install pdfplumber -q"
   ]
  },
  {
   "cell_type": "code",
   "execution_count": null,
   "id": "0e0003e0-f442-4dbd-8fcc-273dbe46188d",
   "metadata": {},
   "outputs": [],
   "source": [
    "import pyttsx3\n",
    "import pdfplumber as pp\n",
    "\n",
    "engine = pyttsx3.init()\n",
    "\n",
    "with pp.open('test_data/example.pdf') as book:\n",
    "    for page_no, page in enumerate(book.pages, start=1):\n",
    "        data = page.extract_text()\n",
    "        print(data.strip())\n",
    "        engine.say(data.strip())\n",
    "        engine.runAndWait()\n",
    "engine.stop()"
   ]
  },
  {
   "cell_type": "markdown",
   "id": "95d66a8a-1ff4-45dd-8ce2-13c04276f6ca",
   "metadata": {},
   "source": [
    "🟢 Hope you like this program! 📚  \n",
    "🟡 Follow → @itsafiz  \n",
    "✅ Note: Run this program on your local system"
   ]
  },
  {
   "cell_type": "code",
   "execution_count": null,
   "id": "de22edd9-2909-4079-87eb-dcc0f0c78a7e",
   "metadata": {},
   "outputs": [],
   "source": []
  }
 ],
 "metadata": {
  "kernelspec": {
   "display_name": "default:Python",
   "language": "python",
   "name": "conda-env-default-py"
  },
  "language_info": {
   "codemirror_mode": {
    "name": "ipython",
    "version": 3
   },
   "file_extension": ".py",
   "mimetype": "text/x-python",
   "name": "python",
   "nbconvert_exporter": "python",
   "pygments_lexer": "ipython3",
   "version": "3.9.12"
  }
 },
 "nbformat": 4,
 "nbformat_minor": 5
}
